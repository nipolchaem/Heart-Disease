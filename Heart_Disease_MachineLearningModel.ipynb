{
 "cells": [
  {
   "cell_type": "markdown",
   "metadata": {},
   "source": [
    "# Heart Disease UCI"
   ]
  },
  {
   "cell_type": "markdown",
   "metadata": {},
   "source": [
    "In this project, the heart disease data set originated from https://archive.ics.uci.edu/ml/datasets/Heart+Disease has been used to train a model to predict if there is the presence of heart disease in patients. This problem is a classification problem, so the classification methods, namely, Logistic Regression, SVM, kNN, Naive Bayes' classification, Decision Tree, and Random Forest, will be used. Each model will be tested using k-Fold Cross-validation."
   ]
  },
  {
   "cell_type": "markdown",
   "metadata": {},
   "source": [
    "## Table of Contents\n",
    "1. [Set up environment and import data](#Data)\n",
    "2. [Data Analyze](#DataAnalyze)\n",
    "    1. [Feature information](#feature)\n",
    "    2. [Target information](#target)\n",
    "    3. [Categorical features](#categorical)\n",
    "    4. [Numerical features](#numerical)\n",
    "    5. [Numerical distribution](#numdistribution)\n",
    "    6. [Creating dummy variables](#dummy)\n",
    "    7. [Correlation matrix](#correlation)\n",
    "    8. [Summary](#summary)\n",
    "3. [Machine Learning](#machine)\n",
    "    1. [Logistic Regression](#logistic)\n",
    "    2. [Support Vector Machine (SVM)](#SVM)\n",
    "    3. [k Nearest-Neighbor (kNN)](#kNN)\n",
    "    4. [Naive Bayes classification](#naive)\n",
    "    5. [Decision tree classification](#tree)\n",
    "    6. [Random forest classification](#forest)\n",
    "    7. [Summary](#summary)\n",
    "    8. [Ensemble Model](#ensemble)\n",
    "4. [Artificial Neural Network](#network)\n",
    "\n"
   ]
  },
  {
   "cell_type": "markdown",
   "metadata": {},
   "source": [
    "## 1. Set up environment and import data <a name = 'Data'>"
   ]
  },
  {
   "cell_type": "code",
   "execution_count": 1,
   "metadata": {},
   "outputs": [],
   "source": [
    "# Importing the libraries\n",
    "import numpy as np\n",
    "import matplotlib.pyplot as plt\n",
    "import pandas as pd\n",
    "import seaborn as sns \n",
    "\n",
    "# Ignore harmless warnings\n",
    "import warnings\n",
    "warnings.filterwarnings(\"ignore\")"
   ]
  },
  {
   "cell_type": "code",
   "execution_count": 2,
   "metadata": {},
   "outputs": [],
   "source": [
    "# Importing the data set\n",
    "df = pd.read_csv('heart.csv')"
   ]
  },
  {
   "cell_type": "code",
   "execution_count": 3,
   "metadata": {},
   "outputs": [
    {
     "data": {
      "text/html": [
       "<div>\n",
       "<style scoped>\n",
       "    .dataframe tbody tr th:only-of-type {\n",
       "        vertical-align: middle;\n",
       "    }\n",
       "\n",
       "    .dataframe tbody tr th {\n",
       "        vertical-align: top;\n",
       "    }\n",
       "\n",
       "    .dataframe thead th {\n",
       "        text-align: right;\n",
       "    }\n",
       "</style>\n",
       "<table border=\"1\" class=\"dataframe\">\n",
       "  <thead>\n",
       "    <tr style=\"text-align: right;\">\n",
       "      <th></th>\n",
       "      <th>age</th>\n",
       "      <th>sex</th>\n",
       "      <th>cp</th>\n",
       "      <th>trestbps</th>\n",
       "      <th>chol</th>\n",
       "      <th>fbs</th>\n",
       "      <th>restecg</th>\n",
       "      <th>thalach</th>\n",
       "      <th>exang</th>\n",
       "      <th>oldpeak</th>\n",
       "      <th>slope</th>\n",
       "      <th>ca</th>\n",
       "      <th>thal</th>\n",
       "      <th>target</th>\n",
       "    </tr>\n",
       "  </thead>\n",
       "  <tbody>\n",
       "    <tr>\n",
       "      <th>0</th>\n",
       "      <td>63</td>\n",
       "      <td>1</td>\n",
       "      <td>3</td>\n",
       "      <td>145</td>\n",
       "      <td>233</td>\n",
       "      <td>1</td>\n",
       "      <td>0</td>\n",
       "      <td>150</td>\n",
       "      <td>0</td>\n",
       "      <td>2.3</td>\n",
       "      <td>0</td>\n",
       "      <td>0</td>\n",
       "      <td>1</td>\n",
       "      <td>1</td>\n",
       "    </tr>\n",
       "    <tr>\n",
       "      <th>1</th>\n",
       "      <td>37</td>\n",
       "      <td>1</td>\n",
       "      <td>2</td>\n",
       "      <td>130</td>\n",
       "      <td>250</td>\n",
       "      <td>0</td>\n",
       "      <td>1</td>\n",
       "      <td>187</td>\n",
       "      <td>0</td>\n",
       "      <td>3.5</td>\n",
       "      <td>0</td>\n",
       "      <td>0</td>\n",
       "      <td>2</td>\n",
       "      <td>1</td>\n",
       "    </tr>\n",
       "    <tr>\n",
       "      <th>2</th>\n",
       "      <td>41</td>\n",
       "      <td>0</td>\n",
       "      <td>1</td>\n",
       "      <td>130</td>\n",
       "      <td>204</td>\n",
       "      <td>0</td>\n",
       "      <td>0</td>\n",
       "      <td>172</td>\n",
       "      <td>0</td>\n",
       "      <td>1.4</td>\n",
       "      <td>2</td>\n",
       "      <td>0</td>\n",
       "      <td>2</td>\n",
       "      <td>1</td>\n",
       "    </tr>\n",
       "    <tr>\n",
       "      <th>3</th>\n",
       "      <td>56</td>\n",
       "      <td>1</td>\n",
       "      <td>1</td>\n",
       "      <td>120</td>\n",
       "      <td>236</td>\n",
       "      <td>0</td>\n",
       "      <td>1</td>\n",
       "      <td>178</td>\n",
       "      <td>0</td>\n",
       "      <td>0.8</td>\n",
       "      <td>2</td>\n",
       "      <td>0</td>\n",
       "      <td>2</td>\n",
       "      <td>1</td>\n",
       "    </tr>\n",
       "    <tr>\n",
       "      <th>4</th>\n",
       "      <td>57</td>\n",
       "      <td>0</td>\n",
       "      <td>0</td>\n",
       "      <td>120</td>\n",
       "      <td>354</td>\n",
       "      <td>0</td>\n",
       "      <td>1</td>\n",
       "      <td>163</td>\n",
       "      <td>1</td>\n",
       "      <td>0.6</td>\n",
       "      <td>2</td>\n",
       "      <td>0</td>\n",
       "      <td>2</td>\n",
       "      <td>1</td>\n",
       "    </tr>\n",
       "  </tbody>\n",
       "</table>\n",
       "</div>"
      ],
      "text/plain": [
       "   age  sex  cp  trestbps  chol  fbs  restecg  thalach  exang  oldpeak  slope  \\\n",
       "0   63    1   3       145   233    1        0      150      0      2.3      0   \n",
       "1   37    1   2       130   250    0        1      187      0      3.5      0   \n",
       "2   41    0   1       130   204    0        0      172      0      1.4      2   \n",
       "3   56    1   1       120   236    0        1      178      0      0.8      2   \n",
       "4   57    0   0       120   354    0        1      163      1      0.6      2   \n",
       "\n",
       "   ca  thal  target  \n",
       "0   0     1       1  \n",
       "1   0     2       1  \n",
       "2   0     2       1  \n",
       "3   0     2       1  \n",
       "4   0     2       1  "
      ]
     },
     "execution_count": 3,
     "metadata": {},
     "output_type": "execute_result"
    }
   ],
   "source": [
    "df.head()"
   ]
  },
  {
   "cell_type": "code",
   "execution_count": 4,
   "metadata": {},
   "outputs": [
    {
     "data": {
      "text/plain": [
       "Index(['age', 'sex', 'cp', 'trestbps', 'chol', 'fbs', 'restecg', 'thalach',\n",
       "       'exang', 'oldpeak', 'slope', 'ca', 'thal', 'target'],\n",
       "      dtype='object')"
      ]
     },
     "execution_count": 4,
     "metadata": {},
     "output_type": "execute_result"
    }
   ],
   "source": [
    "df.columns"
   ]
  },
  {
   "cell_type": "code",
   "execution_count": 5,
   "metadata": {},
   "outputs": [
    {
     "name": "stdout",
     "output_type": "stream",
     "text": [
      "<class 'pandas.core.frame.DataFrame'>\n",
      "RangeIndex: 303 entries, 0 to 302\n",
      "Data columns (total 14 columns):\n",
      "age         303 non-null int64\n",
      "sex         303 non-null int64\n",
      "cp          303 non-null int64\n",
      "trestbps    303 non-null int64\n",
      "chol        303 non-null int64\n",
      "fbs         303 non-null int64\n",
      "restecg     303 non-null int64\n",
      "thalach     303 non-null int64\n",
      "exang       303 non-null int64\n",
      "oldpeak     303 non-null float64\n",
      "slope       303 non-null int64\n",
      "ca          303 non-null int64\n",
      "thal        303 non-null int64\n",
      "target      303 non-null int64\n",
      "dtypes: float64(1), int64(13)\n",
      "memory usage: 33.2 KB\n"
     ]
    }
   ],
   "source": [
    "df.info()"
   ]
  },
  {
   "cell_type": "markdown",
   "metadata": {},
   "source": [
    "This data set is clean because there is no missing value."
   ]
  },
  {
   "cell_type": "markdown",
   "metadata": {},
   "source": [
    "## 2. Data Analyse <a name = 'DataAnalyze'>\n",
    "### A. Feature information <a name ='feature'>\n",
    "The data set have 13 independent variables or features\n",
    "    1. Age\n",
    "    2. Sex\n",
    "    3. Chest pain types (4 Values)\n",
    "    4. Resting blood pressure\n",
    "    5. Serum cholestoral in mg/dl\n",
    "    6. Fasting blood sugar\n",
    "    7. Resting electrocardiographic results (values 0,1,2)\n",
    "    8. Maximum heart rate achieved \n",
    "    9. Exercise induced angina\n",
    "    10. oldpeak = ST depression induced by exercise relative to rest \n",
    "    11. The slope of the peak exercise ST segment \n",
    "    12. Number of major vessels (0-3) colored by flourosopy \n",
    "    13. Thalassemia: 1 = normal; 2 = fixed defect; 3 = reversable defect\n",
    "\n",
    "### B. Target information <a name = 'target'>\n",
    "The presence of heart disease is represented by integer: 1 = Presence and 0 = Absence\n",
    "\n"
   ]
  },
  {
   "cell_type": "markdown",
   "metadata": {},
   "source": [
    "For easy interpretation, each columns should be renamed."
   ]
  },
  {
   "cell_type": "code",
   "execution_count": 6,
   "metadata": {},
   "outputs": [],
   "source": [
    "df.columns = ['Age', 'Sex', 'ChestPain', 'RestingBps', 'Cholestoral', 'FastingBloodSugar', 'RestingEcg', \n",
    "              'MaximumHeartRate', 'ExcerciseInducedAngina', 'STDepression', 'Slope', 'NumberOfBloodVessel', 'Thalassemia', \n",
    "              'Target']"
   ]
  },
  {
   "cell_type": "code",
   "execution_count": 7,
   "metadata": {},
   "outputs": [
    {
     "data": {
      "text/plain": [
       "Index(['Age', 'Sex', 'ChestPain', 'RestingBps', 'Cholestoral',\n",
       "       'FastingBloodSugar', 'RestingEcg', 'MaximumHeartRate',\n",
       "       'ExcerciseInducedAngina', 'STDepression', 'Slope',\n",
       "       'NumberOfBloodVessel', 'Thalassemia', 'Target'],\n",
       "      dtype='object')"
      ]
     },
     "execution_count": 7,
     "metadata": {},
     "output_type": "execute_result"
    }
   ],
   "source": [
    "df.columns"
   ]
  },
  {
   "cell_type": "markdown",
   "metadata": {},
   "source": [
    "### C. Categorical features <a name ='categorical'>\n",
    "    1. Sex: 0 = Female, 1 = Male\n",
    "    2. Chest pain types: 0 = no chest pain, 1 = typical angina, 2 = atypical angina, 3 = non-anginal pain\n",
    "    3. Fasting blood sugar > 120 mg/dl): 1 = True, 0 = False\n",
    "    4. Resting electrocardiographic results: 0 = Normal, 1 = having ST-T wave abnormality, \n",
    "        2 = showing probable or definite left ventricular hypertrophy by Estes' criteria\n",
    "    5. Exercise induced angina : 1 = Yes, 0 = No\n",
    "    6. The slope of the peak exercise ST segment: 0 = upsloping, 1 = flat, 2 = downsloping\n",
    "    7. Thalassemia: 0 = normal; 1 = fixed defect; 2 = reversable defect"
   ]
  },
  {
   "cell_type": "code",
   "execution_count": 8,
   "metadata": {},
   "outputs": [],
   "source": [
    "cate = ['Sex', 'ChestPain', 'FastingBloodSugar', 'RestingEcg',\n",
    "       'ExcerciseInducedAngina', 'Slope','Thalassemia']"
   ]
  },
  {
   "cell_type": "code",
   "execution_count": 9,
   "metadata": {},
   "outputs": [
    {
     "data": {
      "text/html": [
       "<div>\n",
       "<style scoped>\n",
       "    .dataframe tbody tr th:only-of-type {\n",
       "        vertical-align: middle;\n",
       "    }\n",
       "\n",
       "    .dataframe tbody tr th {\n",
       "        vertical-align: top;\n",
       "    }\n",
       "\n",
       "    .dataframe thead th {\n",
       "        text-align: right;\n",
       "    }\n",
       "</style>\n",
       "<table border=\"1\" class=\"dataframe\">\n",
       "  <thead>\n",
       "    <tr style=\"text-align: right;\">\n",
       "      <th></th>\n",
       "      <th>Sex</th>\n",
       "      <th>ChestPain</th>\n",
       "      <th>FastingBloodSugar</th>\n",
       "      <th>RestingEcg</th>\n",
       "      <th>ExcerciseInducedAngina</th>\n",
       "      <th>Slope</th>\n",
       "      <th>Thalassemia</th>\n",
       "    </tr>\n",
       "  </thead>\n",
       "  <tbody>\n",
       "    <tr>\n",
       "      <th>0</th>\n",
       "      <td>1</td>\n",
       "      <td>3</td>\n",
       "      <td>1</td>\n",
       "      <td>0</td>\n",
       "      <td>0</td>\n",
       "      <td>0</td>\n",
       "      <td>1</td>\n",
       "    </tr>\n",
       "    <tr>\n",
       "      <th>1</th>\n",
       "      <td>1</td>\n",
       "      <td>2</td>\n",
       "      <td>0</td>\n",
       "      <td>1</td>\n",
       "      <td>0</td>\n",
       "      <td>0</td>\n",
       "      <td>2</td>\n",
       "    </tr>\n",
       "    <tr>\n",
       "      <th>2</th>\n",
       "      <td>0</td>\n",
       "      <td>1</td>\n",
       "      <td>0</td>\n",
       "      <td>0</td>\n",
       "      <td>0</td>\n",
       "      <td>2</td>\n",
       "      <td>2</td>\n",
       "    </tr>\n",
       "    <tr>\n",
       "      <th>3</th>\n",
       "      <td>1</td>\n",
       "      <td>1</td>\n",
       "      <td>0</td>\n",
       "      <td>1</td>\n",
       "      <td>0</td>\n",
       "      <td>2</td>\n",
       "      <td>2</td>\n",
       "    </tr>\n",
       "    <tr>\n",
       "      <th>4</th>\n",
       "      <td>0</td>\n",
       "      <td>0</td>\n",
       "      <td>0</td>\n",
       "      <td>1</td>\n",
       "      <td>1</td>\n",
       "      <td>2</td>\n",
       "      <td>2</td>\n",
       "    </tr>\n",
       "  </tbody>\n",
       "</table>\n",
       "</div>"
      ],
      "text/plain": [
       "   Sex  ChestPain  FastingBloodSugar  RestingEcg  ExcerciseInducedAngina  \\\n",
       "0    1          3                  1           0                       0   \n",
       "1    1          2                  0           1                       0   \n",
       "2    0          1                  0           0                       0   \n",
       "3    1          1                  0           1                       0   \n",
       "4    0          0                  0           1                       1   \n",
       "\n",
       "   Slope  Thalassemia  \n",
       "0      0            1  \n",
       "1      0            2  \n",
       "2      2            2  \n",
       "3      2            2  \n",
       "4      2            2  "
      ]
     },
     "execution_count": 9,
     "metadata": {},
     "output_type": "execute_result"
    }
   ],
   "source": [
    "df[cate].head()"
   ]
  },
  {
   "cell_type": "markdown",
   "metadata": {},
   "source": [
    "Let's translate the categorical features into texts instead of integers."
   ]
  },
  {
   "cell_type": "code",
   "execution_count": 10,
   "metadata": {},
   "outputs": [],
   "source": [
    "df['Sex'][df['Sex']==0] = 'Female';\n",
    "df['Sex'][df['Sex']==1] = 'Male';\n",
    "\n",
    "df['ChestPain'][df['ChestPain']==0] = 'Normal';\n",
    "df['ChestPain'][df['ChestPain']==1] = 'TypicalAngina';\n",
    "df['ChestPain'][df['ChestPain']==2] = 'AtypicalAngina';\n",
    "df['ChestPain'][df['ChestPain']==3] = 'NonAnginalPain';\n",
    "\n",
    "df['FastingBloodSugar'][df['FastingBloodSugar']==0] ='False';\n",
    "df['FastingBloodSugar'][df['FastingBloodSugar']==1] ='True';\n",
    "\n",
    "df['RestingEcg'][df['RestingEcg']==0] = 'Normal';\n",
    "df['RestingEcg'][df['RestingEcg']==1] = 'ST-Twave';\n",
    "df['RestingEcg'][df['RestingEcg']==2] = 'LeftVentricularHypertrophy';\n",
    "\n",
    "df['ExcerciseInducedAngina'][df['ExcerciseInducedAngina']==0] = 'False';\n",
    "df['ExcerciseInducedAngina'][df['ExcerciseInducedAngina']==1] = 'True';\n",
    "\n",
    "df['Slope'][df['Slope']==0] = 'Upsloping';\n",
    "df['Slope'][df['Slope']==1] = 'Flat';\n",
    "df['Slope'][df['Slope']==2] = 'Downsloping';\n",
    "\n",
    "df['Thalassemia'][df['Thalassemia']==0] ='Normal';\n",
    "df['Thalassemia'][df['Thalassemia']==1] ='FixedDefect';\n",
    "df['Thalassemia'][df['Thalassemia']==2] ='ReversibleDefect';\n"
   ]
  },
  {
   "cell_type": "code",
   "execution_count": 11,
   "metadata": {},
   "outputs": [
    {
     "data": {
      "text/html": [
       "<div>\n",
       "<style scoped>\n",
       "    .dataframe tbody tr th:only-of-type {\n",
       "        vertical-align: middle;\n",
       "    }\n",
       "\n",
       "    .dataframe tbody tr th {\n",
       "        vertical-align: top;\n",
       "    }\n",
       "\n",
       "    .dataframe thead th {\n",
       "        text-align: right;\n",
       "    }\n",
       "</style>\n",
       "<table border=\"1\" class=\"dataframe\">\n",
       "  <thead>\n",
       "    <tr style=\"text-align: right;\">\n",
       "      <th></th>\n",
       "      <th>Sex</th>\n",
       "      <th>ChestPain</th>\n",
       "      <th>FastingBloodSugar</th>\n",
       "      <th>RestingEcg</th>\n",
       "      <th>ExcerciseInducedAngina</th>\n",
       "      <th>Slope</th>\n",
       "      <th>Thalassemia</th>\n",
       "    </tr>\n",
       "  </thead>\n",
       "  <tbody>\n",
       "    <tr>\n",
       "      <th>0</th>\n",
       "      <td>Male</td>\n",
       "      <td>NonAnginalPain</td>\n",
       "      <td>True</td>\n",
       "      <td>Normal</td>\n",
       "      <td>False</td>\n",
       "      <td>Upsloping</td>\n",
       "      <td>FixedDefect</td>\n",
       "    </tr>\n",
       "    <tr>\n",
       "      <th>1</th>\n",
       "      <td>Male</td>\n",
       "      <td>AtypicalAngina</td>\n",
       "      <td>False</td>\n",
       "      <td>ST-Twave</td>\n",
       "      <td>False</td>\n",
       "      <td>Upsloping</td>\n",
       "      <td>ReversibleDefect</td>\n",
       "    </tr>\n",
       "    <tr>\n",
       "      <th>2</th>\n",
       "      <td>Female</td>\n",
       "      <td>TypicalAngina</td>\n",
       "      <td>False</td>\n",
       "      <td>Normal</td>\n",
       "      <td>False</td>\n",
       "      <td>Downsloping</td>\n",
       "      <td>ReversibleDefect</td>\n",
       "    </tr>\n",
       "    <tr>\n",
       "      <th>3</th>\n",
       "      <td>Male</td>\n",
       "      <td>TypicalAngina</td>\n",
       "      <td>False</td>\n",
       "      <td>ST-Twave</td>\n",
       "      <td>False</td>\n",
       "      <td>Downsloping</td>\n",
       "      <td>ReversibleDefect</td>\n",
       "    </tr>\n",
       "    <tr>\n",
       "      <th>4</th>\n",
       "      <td>Female</td>\n",
       "      <td>Normal</td>\n",
       "      <td>False</td>\n",
       "      <td>ST-Twave</td>\n",
       "      <td>True</td>\n",
       "      <td>Downsloping</td>\n",
       "      <td>ReversibleDefect</td>\n",
       "    </tr>\n",
       "  </tbody>\n",
       "</table>\n",
       "</div>"
      ],
      "text/plain": [
       "      Sex       ChestPain FastingBloodSugar RestingEcg ExcerciseInducedAngina  \\\n",
       "0    Male  NonAnginalPain              True     Normal                  False   \n",
       "1    Male  AtypicalAngina             False   ST-Twave                  False   \n",
       "2  Female   TypicalAngina             False     Normal                  False   \n",
       "3    Male   TypicalAngina             False   ST-Twave                  False   \n",
       "4  Female          Normal             False   ST-Twave                   True   \n",
       "\n",
       "         Slope       Thalassemia  \n",
       "0    Upsloping       FixedDefect  \n",
       "1    Upsloping  ReversibleDefect  \n",
       "2  Downsloping  ReversibleDefect  \n",
       "3  Downsloping  ReversibleDefect  \n",
       "4  Downsloping  ReversibleDefect  "
      ]
     },
     "execution_count": 11,
     "metadata": {},
     "output_type": "execute_result"
    }
   ],
   "source": [
    "df[cate].head()"
   ]
  },
  {
   "cell_type": "code",
   "execution_count": 12,
   "metadata": {},
   "outputs": [
    {
     "name": "stdout",
     "output_type": "stream",
     "text": [
      "<class 'pandas.core.frame.DataFrame'>\n",
      "RangeIndex: 303 entries, 0 to 302\n",
      "Data columns (total 7 columns):\n",
      "Sex                       303 non-null object\n",
      "ChestPain                 303 non-null object\n",
      "FastingBloodSugar         303 non-null object\n",
      "RestingEcg                303 non-null object\n",
      "ExcerciseInducedAngina    303 non-null object\n",
      "Slope                     303 non-null object\n",
      "Thalassemia               303 non-null object\n",
      "dtypes: object(7)\n",
      "memory usage: 16.6+ KB\n"
     ]
    }
   ],
   "source": [
    "df[cate].info()"
   ]
  },
  {
   "cell_type": "markdown",
   "metadata": {},
   "source": [
    "### D. Numerical features <a name = 'numerical'>\n",
    "1. Age\n",
    "2. Resting blood pressure in mmHg\n",
    "3. Serum cholestoral in mg/dl\n",
    "4. Maximum heart rate achieved\n",
    "5. ST depression induced by exercise relative to rest\n",
    "6. Number of major blood vessel colored by flouroscopy \n"
   ]
  },
  {
   "cell_type": "code",
   "execution_count": 13,
   "metadata": {},
   "outputs": [],
   "source": [
    "nume = ['Age','RestingBps', 'Cholestoral','MaximumHeartRate','STDepression', 'NumberOfBloodVessel']"
   ]
  },
  {
   "cell_type": "code",
   "execution_count": 14,
   "metadata": {},
   "outputs": [
    {
     "data": {
      "text/html": [
       "<div>\n",
       "<style scoped>\n",
       "    .dataframe tbody tr th:only-of-type {\n",
       "        vertical-align: middle;\n",
       "    }\n",
       "\n",
       "    .dataframe tbody tr th {\n",
       "        vertical-align: top;\n",
       "    }\n",
       "\n",
       "    .dataframe thead th {\n",
       "        text-align: right;\n",
       "    }\n",
       "</style>\n",
       "<table border=\"1\" class=\"dataframe\">\n",
       "  <thead>\n",
       "    <tr style=\"text-align: right;\">\n",
       "      <th></th>\n",
       "      <th>Age</th>\n",
       "      <th>RestingBps</th>\n",
       "      <th>Cholestoral</th>\n",
       "      <th>MaximumHeartRate</th>\n",
       "      <th>STDepression</th>\n",
       "      <th>NumberOfBloodVessel</th>\n",
       "    </tr>\n",
       "  </thead>\n",
       "  <tbody>\n",
       "    <tr>\n",
       "      <th>0</th>\n",
       "      <td>63</td>\n",
       "      <td>145</td>\n",
       "      <td>233</td>\n",
       "      <td>150</td>\n",
       "      <td>2.3</td>\n",
       "      <td>0</td>\n",
       "    </tr>\n",
       "    <tr>\n",
       "      <th>1</th>\n",
       "      <td>37</td>\n",
       "      <td>130</td>\n",
       "      <td>250</td>\n",
       "      <td>187</td>\n",
       "      <td>3.5</td>\n",
       "      <td>0</td>\n",
       "    </tr>\n",
       "    <tr>\n",
       "      <th>2</th>\n",
       "      <td>41</td>\n",
       "      <td>130</td>\n",
       "      <td>204</td>\n",
       "      <td>172</td>\n",
       "      <td>1.4</td>\n",
       "      <td>0</td>\n",
       "    </tr>\n",
       "    <tr>\n",
       "      <th>3</th>\n",
       "      <td>56</td>\n",
       "      <td>120</td>\n",
       "      <td>236</td>\n",
       "      <td>178</td>\n",
       "      <td>0.8</td>\n",
       "      <td>0</td>\n",
       "    </tr>\n",
       "    <tr>\n",
       "      <th>4</th>\n",
       "      <td>57</td>\n",
       "      <td>120</td>\n",
       "      <td>354</td>\n",
       "      <td>163</td>\n",
       "      <td>0.6</td>\n",
       "      <td>0</td>\n",
       "    </tr>\n",
       "  </tbody>\n",
       "</table>\n",
       "</div>"
      ],
      "text/plain": [
       "   Age  RestingBps  Cholestoral  MaximumHeartRate  STDepression  \\\n",
       "0   63         145          233               150           2.3   \n",
       "1   37         130          250               187           3.5   \n",
       "2   41         130          204               172           1.4   \n",
       "3   56         120          236               178           0.8   \n",
       "4   57         120          354               163           0.6   \n",
       "\n",
       "   NumberOfBloodVessel  \n",
       "0                    0  \n",
       "1                    0  \n",
       "2                    0  \n",
       "3                    0  \n",
       "4                    0  "
      ]
     },
     "execution_count": 14,
     "metadata": {},
     "output_type": "execute_result"
    }
   ],
   "source": [
    "df[nume].head()"
   ]
  },
  {
   "cell_type": "markdown",
   "metadata": {},
   "source": [
    "### E. Numerical distribution<a name = 'numdistribution'>"
   ]
  },
  {
   "cell_type": "code",
   "execution_count": 15,
   "metadata": {},
   "outputs": [
    {
     "data": {
      "text/html": [
       "<div>\n",
       "<style scoped>\n",
       "    .dataframe tbody tr th:only-of-type {\n",
       "        vertical-align: middle;\n",
       "    }\n",
       "\n",
       "    .dataframe tbody tr th {\n",
       "        vertical-align: top;\n",
       "    }\n",
       "\n",
       "    .dataframe thead th {\n",
       "        text-align: right;\n",
       "    }\n",
       "</style>\n",
       "<table border=\"1\" class=\"dataframe\">\n",
       "  <thead>\n",
       "    <tr style=\"text-align: right;\">\n",
       "      <th></th>\n",
       "      <th>Age</th>\n",
       "      <th>RestingBps</th>\n",
       "      <th>Cholestoral</th>\n",
       "      <th>MaximumHeartRate</th>\n",
       "      <th>STDepression</th>\n",
       "      <th>NumberOfBloodVessel</th>\n",
       "    </tr>\n",
       "  </thead>\n",
       "  <tbody>\n",
       "    <tr>\n",
       "      <th>count</th>\n",
       "      <td>303.000000</td>\n",
       "      <td>303.000000</td>\n",
       "      <td>303.000000</td>\n",
       "      <td>303.000000</td>\n",
       "      <td>303.000000</td>\n",
       "      <td>303.000000</td>\n",
       "    </tr>\n",
       "    <tr>\n",
       "      <th>mean</th>\n",
       "      <td>54.366337</td>\n",
       "      <td>131.623762</td>\n",
       "      <td>246.264026</td>\n",
       "      <td>149.646865</td>\n",
       "      <td>1.039604</td>\n",
       "      <td>0.729373</td>\n",
       "    </tr>\n",
       "    <tr>\n",
       "      <th>std</th>\n",
       "      <td>9.082101</td>\n",
       "      <td>17.538143</td>\n",
       "      <td>51.830751</td>\n",
       "      <td>22.905161</td>\n",
       "      <td>1.161075</td>\n",
       "      <td>1.022606</td>\n",
       "    </tr>\n",
       "    <tr>\n",
       "      <th>min</th>\n",
       "      <td>29.000000</td>\n",
       "      <td>94.000000</td>\n",
       "      <td>126.000000</td>\n",
       "      <td>71.000000</td>\n",
       "      <td>0.000000</td>\n",
       "      <td>0.000000</td>\n",
       "    </tr>\n",
       "    <tr>\n",
       "      <th>25%</th>\n",
       "      <td>47.500000</td>\n",
       "      <td>120.000000</td>\n",
       "      <td>211.000000</td>\n",
       "      <td>133.500000</td>\n",
       "      <td>0.000000</td>\n",
       "      <td>0.000000</td>\n",
       "    </tr>\n",
       "    <tr>\n",
       "      <th>50%</th>\n",
       "      <td>55.000000</td>\n",
       "      <td>130.000000</td>\n",
       "      <td>240.000000</td>\n",
       "      <td>153.000000</td>\n",
       "      <td>0.800000</td>\n",
       "      <td>0.000000</td>\n",
       "    </tr>\n",
       "    <tr>\n",
       "      <th>75%</th>\n",
       "      <td>61.000000</td>\n",
       "      <td>140.000000</td>\n",
       "      <td>274.500000</td>\n",
       "      <td>166.000000</td>\n",
       "      <td>1.600000</td>\n",
       "      <td>1.000000</td>\n",
       "    </tr>\n",
       "    <tr>\n",
       "      <th>max</th>\n",
       "      <td>77.000000</td>\n",
       "      <td>200.000000</td>\n",
       "      <td>564.000000</td>\n",
       "      <td>202.000000</td>\n",
       "      <td>6.200000</td>\n",
       "      <td>4.000000</td>\n",
       "    </tr>\n",
       "  </tbody>\n",
       "</table>\n",
       "</div>"
      ],
      "text/plain": [
       "              Age  RestingBps  Cholestoral  MaximumHeartRate  STDepression  \\\n",
       "count  303.000000  303.000000   303.000000        303.000000    303.000000   \n",
       "mean    54.366337  131.623762   246.264026        149.646865      1.039604   \n",
       "std      9.082101   17.538143    51.830751         22.905161      1.161075   \n",
       "min     29.000000   94.000000   126.000000         71.000000      0.000000   \n",
       "25%     47.500000  120.000000   211.000000        133.500000      0.000000   \n",
       "50%     55.000000  130.000000   240.000000        153.000000      0.800000   \n",
       "75%     61.000000  140.000000   274.500000        166.000000      1.600000   \n",
       "max     77.000000  200.000000   564.000000        202.000000      6.200000   \n",
       "\n",
       "       NumberOfBloodVessel  \n",
       "count           303.000000  \n",
       "mean              0.729373  \n",
       "std               1.022606  \n",
       "min               0.000000  \n",
       "25%               0.000000  \n",
       "50%               0.000000  \n",
       "75%               1.000000  \n",
       "max               4.000000  "
      ]
     },
     "execution_count": 15,
     "metadata": {},
     "output_type": "execute_result"
    }
   ],
   "source": [
    "df[nume].describe()"
   ]
  },
  {
   "cell_type": "markdown",
   "metadata": {},
   "source": [
    "In the data, the number of blood vessel is an integer number ranging from 0 to 3. However, in the data set, there are the data with the number of blood vessel equal to 4. These data will be removed."
   ]
  },
  {
   "cell_type": "code",
   "execution_count": 21,
   "metadata": {},
   "outputs": [
    {
     "data": {
      "text/html": [
       "<div>\n",
       "<style scoped>\n",
       "    .dataframe tbody tr th:only-of-type {\n",
       "        vertical-align: middle;\n",
       "    }\n",
       "\n",
       "    .dataframe tbody tr th {\n",
       "        vertical-align: top;\n",
       "    }\n",
       "\n",
       "    .dataframe thead th {\n",
       "        text-align: right;\n",
       "    }\n",
       "</style>\n",
       "<table border=\"1\" class=\"dataframe\">\n",
       "  <thead>\n",
       "    <tr style=\"text-align: right;\">\n",
       "      <th></th>\n",
       "      <th>Age</th>\n",
       "      <th>Sex</th>\n",
       "      <th>ChestPain</th>\n",
       "      <th>RestingBps</th>\n",
       "      <th>Cholestoral</th>\n",
       "      <th>FastingBloodSugar</th>\n",
       "      <th>RestingEcg</th>\n",
       "      <th>MaximumHeartRate</th>\n",
       "      <th>ExcerciseInducedAngina</th>\n",
       "      <th>STDepression</th>\n",
       "      <th>Slope</th>\n",
       "      <th>NumberOfBloodVessel</th>\n",
       "      <th>Thalassemia</th>\n",
       "      <th>Target</th>\n",
       "    </tr>\n",
       "  </thead>\n",
       "  <tbody>\n",
       "    <tr>\n",
       "      <th>92</th>\n",
       "      <td>52</td>\n",
       "      <td>Male</td>\n",
       "      <td>AtypicalAngina</td>\n",
       "      <td>138</td>\n",
       "      <td>223</td>\n",
       "      <td>False</td>\n",
       "      <td>ST-Twave</td>\n",
       "      <td>169</td>\n",
       "      <td>False</td>\n",
       "      <td>0.0</td>\n",
       "      <td>Downsloping</td>\n",
       "      <td>4</td>\n",
       "      <td>ReversibleDefect</td>\n",
       "      <td>1</td>\n",
       "    </tr>\n",
       "    <tr>\n",
       "      <th>158</th>\n",
       "      <td>58</td>\n",
       "      <td>Male</td>\n",
       "      <td>TypicalAngina</td>\n",
       "      <td>125</td>\n",
       "      <td>220</td>\n",
       "      <td>False</td>\n",
       "      <td>ST-Twave</td>\n",
       "      <td>144</td>\n",
       "      <td>False</td>\n",
       "      <td>0.4</td>\n",
       "      <td>Flat</td>\n",
       "      <td>4</td>\n",
       "      <td>3</td>\n",
       "      <td>1</td>\n",
       "    </tr>\n",
       "    <tr>\n",
       "      <th>163</th>\n",
       "      <td>38</td>\n",
       "      <td>Male</td>\n",
       "      <td>AtypicalAngina</td>\n",
       "      <td>138</td>\n",
       "      <td>175</td>\n",
       "      <td>False</td>\n",
       "      <td>ST-Twave</td>\n",
       "      <td>173</td>\n",
       "      <td>False</td>\n",
       "      <td>0.0</td>\n",
       "      <td>Downsloping</td>\n",
       "      <td>4</td>\n",
       "      <td>ReversibleDefect</td>\n",
       "      <td>1</td>\n",
       "    </tr>\n",
       "    <tr>\n",
       "      <th>164</th>\n",
       "      <td>38</td>\n",
       "      <td>Male</td>\n",
       "      <td>AtypicalAngina</td>\n",
       "      <td>138</td>\n",
       "      <td>175</td>\n",
       "      <td>False</td>\n",
       "      <td>ST-Twave</td>\n",
       "      <td>173</td>\n",
       "      <td>False</td>\n",
       "      <td>0.0</td>\n",
       "      <td>Downsloping</td>\n",
       "      <td>4</td>\n",
       "      <td>ReversibleDefect</td>\n",
       "      <td>1</td>\n",
       "    </tr>\n",
       "    <tr>\n",
       "      <th>251</th>\n",
       "      <td>43</td>\n",
       "      <td>Male</td>\n",
       "      <td>Normal</td>\n",
       "      <td>132</td>\n",
       "      <td>247</td>\n",
       "      <td>True</td>\n",
       "      <td>Normal</td>\n",
       "      <td>143</td>\n",
       "      <td>True</td>\n",
       "      <td>0.1</td>\n",
       "      <td>Flat</td>\n",
       "      <td>4</td>\n",
       "      <td>3</td>\n",
       "      <td>0</td>\n",
       "    </tr>\n",
       "  </tbody>\n",
       "</table>\n",
       "</div>"
      ],
      "text/plain": [
       "     Age   Sex       ChestPain  RestingBps  Cholestoral FastingBloodSugar  \\\n",
       "92    52  Male  AtypicalAngina         138          223             False   \n",
       "158   58  Male   TypicalAngina         125          220             False   \n",
       "163   38  Male  AtypicalAngina         138          175             False   \n",
       "164   38  Male  AtypicalAngina         138          175             False   \n",
       "251   43  Male          Normal         132          247              True   \n",
       "\n",
       "    RestingEcg  MaximumHeartRate ExcerciseInducedAngina  STDepression  \\\n",
       "92    ST-Twave               169                  False           0.0   \n",
       "158   ST-Twave               144                  False           0.4   \n",
       "163   ST-Twave               173                  False           0.0   \n",
       "164   ST-Twave               173                  False           0.0   \n",
       "251     Normal               143                   True           0.1   \n",
       "\n",
       "           Slope  NumberOfBloodVessel       Thalassemia  Target  \n",
       "92   Downsloping                    4  ReversibleDefect       1  \n",
       "158         Flat                    4                 3       1  \n",
       "163  Downsloping                    4  ReversibleDefect       1  \n",
       "164  Downsloping                    4  ReversibleDefect       1  \n",
       "251         Flat                    4                 3       0  "
      ]
     },
     "execution_count": 21,
     "metadata": {},
     "output_type": "execute_result"
    }
   ],
   "source": [
    "df[df['NumberOfBloodVessel']==4]"
   ]
  },
  {
   "cell_type": "markdown",
   "metadata": {},
   "source": [
    "Removing the data with the number of blood vessel equal to 4."
   ]
  },
  {
   "cell_type": "code",
   "execution_count": 26,
   "metadata": {},
   "outputs": [],
   "source": [
    "df = df[df['NumberOfBloodVessel']<4]"
   ]
  },
  {
   "cell_type": "code",
   "execution_count": 27,
   "metadata": {},
   "outputs": [
    {
     "data": {
      "text/plain": [
       "0"
      ]
     },
     "execution_count": 27,
     "metadata": {},
     "output_type": "execute_result"
    }
   ],
   "source": [
    "len(df[df['NumberOfBloodVessel']==4])"
   ]
  },
  {
   "cell_type": "code",
   "execution_count": 198,
   "metadata": {},
   "outputs": [
    {
     "data": {
      "text/plain": [
       "20"
      ]
     },
     "execution_count": 198,
     "metadata": {},
     "output_type": "execute_result"
    }
   ],
   "source": [
    "len(df[df['STDepression']> 3])"
   ]
  },
  {
   "cell_type": "code",
   "execution_count": null,
   "metadata": {},
   "outputs": [],
   "source": []
  },
  {
   "cell_type": "markdown",
   "metadata": {},
   "source": [
    "### F. Creating dummy variable <a name = 'dummy'>"
   ]
  },
  {
   "cell_type": "markdown",
   "metadata": {},
   "source": [
    "The categorical variables in this project are nominal variables, which are categorical variables without an instrinsic ranking. In order to perform Machine Learning into the data set, the dummy variables need to be created from the nominal categorical variables."
   ]
  },
  {
   "cell_type": "code",
   "execution_count": 28,
   "metadata": {},
   "outputs": [],
   "source": [
    "# Making copy to avoid overwrite the data\n",
    "df_copy = df.copy() "
   ]
  },
  {
   "cell_type": "code",
   "execution_count": 29,
   "metadata": {},
   "outputs": [
    {
     "data": {
      "text/html": [
       "<div>\n",
       "<style scoped>\n",
       "    .dataframe tbody tr th:only-of-type {\n",
       "        vertical-align: middle;\n",
       "    }\n",
       "\n",
       "    .dataframe tbody tr th {\n",
       "        vertical-align: top;\n",
       "    }\n",
       "\n",
       "    .dataframe thead th {\n",
       "        text-align: right;\n",
       "    }\n",
       "</style>\n",
       "<table border=\"1\" class=\"dataframe\">\n",
       "  <thead>\n",
       "    <tr style=\"text-align: right;\">\n",
       "      <th></th>\n",
       "      <th>Age</th>\n",
       "      <th>Sex</th>\n",
       "      <th>ChestPain</th>\n",
       "      <th>RestingBps</th>\n",
       "      <th>Cholestoral</th>\n",
       "      <th>FastingBloodSugar</th>\n",
       "      <th>RestingEcg</th>\n",
       "      <th>MaximumHeartRate</th>\n",
       "      <th>ExcerciseInducedAngina</th>\n",
       "      <th>STDepression</th>\n",
       "      <th>Slope</th>\n",
       "      <th>NumberOfBloodVessel</th>\n",
       "      <th>Thalassemia</th>\n",
       "      <th>Target</th>\n",
       "    </tr>\n",
       "  </thead>\n",
       "  <tbody>\n",
       "    <tr>\n",
       "      <th>0</th>\n",
       "      <td>63</td>\n",
       "      <td>Male</td>\n",
       "      <td>NonAnginalPain</td>\n",
       "      <td>145</td>\n",
       "      <td>233</td>\n",
       "      <td>True</td>\n",
       "      <td>Normal</td>\n",
       "      <td>150</td>\n",
       "      <td>False</td>\n",
       "      <td>2.3</td>\n",
       "      <td>Upsloping</td>\n",
       "      <td>0</td>\n",
       "      <td>FixedDefect</td>\n",
       "      <td>1</td>\n",
       "    </tr>\n",
       "    <tr>\n",
       "      <th>1</th>\n",
       "      <td>37</td>\n",
       "      <td>Male</td>\n",
       "      <td>AtypicalAngina</td>\n",
       "      <td>130</td>\n",
       "      <td>250</td>\n",
       "      <td>False</td>\n",
       "      <td>ST-Twave</td>\n",
       "      <td>187</td>\n",
       "      <td>False</td>\n",
       "      <td>3.5</td>\n",
       "      <td>Upsloping</td>\n",
       "      <td>0</td>\n",
       "      <td>ReversibleDefect</td>\n",
       "      <td>1</td>\n",
       "    </tr>\n",
       "    <tr>\n",
       "      <th>2</th>\n",
       "      <td>41</td>\n",
       "      <td>Female</td>\n",
       "      <td>TypicalAngina</td>\n",
       "      <td>130</td>\n",
       "      <td>204</td>\n",
       "      <td>False</td>\n",
       "      <td>Normal</td>\n",
       "      <td>172</td>\n",
       "      <td>False</td>\n",
       "      <td>1.4</td>\n",
       "      <td>Downsloping</td>\n",
       "      <td>0</td>\n",
       "      <td>ReversibleDefect</td>\n",
       "      <td>1</td>\n",
       "    </tr>\n",
       "    <tr>\n",
       "      <th>3</th>\n",
       "      <td>56</td>\n",
       "      <td>Male</td>\n",
       "      <td>TypicalAngina</td>\n",
       "      <td>120</td>\n",
       "      <td>236</td>\n",
       "      <td>False</td>\n",
       "      <td>ST-Twave</td>\n",
       "      <td>178</td>\n",
       "      <td>False</td>\n",
       "      <td>0.8</td>\n",
       "      <td>Downsloping</td>\n",
       "      <td>0</td>\n",
       "      <td>ReversibleDefect</td>\n",
       "      <td>1</td>\n",
       "    </tr>\n",
       "    <tr>\n",
       "      <th>4</th>\n",
       "      <td>57</td>\n",
       "      <td>Female</td>\n",
       "      <td>Normal</td>\n",
       "      <td>120</td>\n",
       "      <td>354</td>\n",
       "      <td>False</td>\n",
       "      <td>ST-Twave</td>\n",
       "      <td>163</td>\n",
       "      <td>True</td>\n",
       "      <td>0.6</td>\n",
       "      <td>Downsloping</td>\n",
       "      <td>0</td>\n",
       "      <td>ReversibleDefect</td>\n",
       "      <td>1</td>\n",
       "    </tr>\n",
       "  </tbody>\n",
       "</table>\n",
       "</div>"
      ],
      "text/plain": [
       "   Age     Sex       ChestPain  RestingBps  Cholestoral FastingBloodSugar  \\\n",
       "0   63    Male  NonAnginalPain         145          233              True   \n",
       "1   37    Male  AtypicalAngina         130          250             False   \n",
       "2   41  Female   TypicalAngina         130          204             False   \n",
       "3   56    Male   TypicalAngina         120          236             False   \n",
       "4   57  Female          Normal         120          354             False   \n",
       "\n",
       "  RestingEcg  MaximumHeartRate ExcerciseInducedAngina  STDepression  \\\n",
       "0     Normal               150                  False           2.3   \n",
       "1   ST-Twave               187                  False           3.5   \n",
       "2     Normal               172                  False           1.4   \n",
       "3   ST-Twave               178                  False           0.8   \n",
       "4   ST-Twave               163                   True           0.6   \n",
       "\n",
       "         Slope  NumberOfBloodVessel       Thalassemia  Target  \n",
       "0    Upsloping                    0       FixedDefect       1  \n",
       "1    Upsloping                    0  ReversibleDefect       1  \n",
       "2  Downsloping                    0  ReversibleDefect       1  \n",
       "3  Downsloping                    0  ReversibleDefect       1  \n",
       "4  Downsloping                    0  ReversibleDefect       1  "
      ]
     },
     "execution_count": 29,
     "metadata": {},
     "output_type": "execute_result"
    }
   ],
   "source": [
    "df_copy.head()"
   ]
  },
  {
   "cell_type": "code",
   "execution_count": 30,
   "metadata": {},
   "outputs": [],
   "source": [
    "df_copy = pd.get_dummies(df_copy,drop_first = True)"
   ]
  },
  {
   "cell_type": "code",
   "execution_count": 31,
   "metadata": {},
   "outputs": [
    {
     "data": {
      "text/html": [
       "<div>\n",
       "<style scoped>\n",
       "    .dataframe tbody tr th:only-of-type {\n",
       "        vertical-align: middle;\n",
       "    }\n",
       "\n",
       "    .dataframe tbody tr th {\n",
       "        vertical-align: top;\n",
       "    }\n",
       "\n",
       "    .dataframe thead th {\n",
       "        text-align: right;\n",
       "    }\n",
       "</style>\n",
       "<table border=\"1\" class=\"dataframe\">\n",
       "  <thead>\n",
       "    <tr style=\"text-align: right;\">\n",
       "      <th></th>\n",
       "      <th>Age</th>\n",
       "      <th>RestingBps</th>\n",
       "      <th>Cholestoral</th>\n",
       "      <th>MaximumHeartRate</th>\n",
       "      <th>STDepression</th>\n",
       "      <th>NumberOfBloodVessel</th>\n",
       "      <th>Target</th>\n",
       "      <th>Sex_Male</th>\n",
       "      <th>ChestPain_NonAnginalPain</th>\n",
       "      <th>ChestPain_Normal</th>\n",
       "      <th>ChestPain_TypicalAngina</th>\n",
       "      <th>FastingBloodSugar_True</th>\n",
       "      <th>RestingEcg_Normal</th>\n",
       "      <th>RestingEcg_ST-Twave</th>\n",
       "      <th>ExcerciseInducedAngina_True</th>\n",
       "      <th>Slope_Flat</th>\n",
       "      <th>Slope_Upsloping</th>\n",
       "      <th>Thalassemia_FixedDefect</th>\n",
       "      <th>Thalassemia_Normal</th>\n",
       "      <th>Thalassemia_ReversibleDefect</th>\n",
       "    </tr>\n",
       "  </thead>\n",
       "  <tbody>\n",
       "    <tr>\n",
       "      <th>0</th>\n",
       "      <td>63</td>\n",
       "      <td>145</td>\n",
       "      <td>233</td>\n",
       "      <td>150</td>\n",
       "      <td>2.3</td>\n",
       "      <td>0</td>\n",
       "      <td>1</td>\n",
       "      <td>1</td>\n",
       "      <td>1</td>\n",
       "      <td>0</td>\n",
       "      <td>0</td>\n",
       "      <td>1</td>\n",
       "      <td>1</td>\n",
       "      <td>0</td>\n",
       "      <td>0</td>\n",
       "      <td>0</td>\n",
       "      <td>1</td>\n",
       "      <td>1</td>\n",
       "      <td>0</td>\n",
       "      <td>0</td>\n",
       "    </tr>\n",
       "    <tr>\n",
       "      <th>1</th>\n",
       "      <td>37</td>\n",
       "      <td>130</td>\n",
       "      <td>250</td>\n",
       "      <td>187</td>\n",
       "      <td>3.5</td>\n",
       "      <td>0</td>\n",
       "      <td>1</td>\n",
       "      <td>1</td>\n",
       "      <td>0</td>\n",
       "      <td>0</td>\n",
       "      <td>0</td>\n",
       "      <td>0</td>\n",
       "      <td>0</td>\n",
       "      <td>1</td>\n",
       "      <td>0</td>\n",
       "      <td>0</td>\n",
       "      <td>1</td>\n",
       "      <td>0</td>\n",
       "      <td>0</td>\n",
       "      <td>1</td>\n",
       "    </tr>\n",
       "    <tr>\n",
       "      <th>2</th>\n",
       "      <td>41</td>\n",
       "      <td>130</td>\n",
       "      <td>204</td>\n",
       "      <td>172</td>\n",
       "      <td>1.4</td>\n",
       "      <td>0</td>\n",
       "      <td>1</td>\n",
       "      <td>0</td>\n",
       "      <td>0</td>\n",
       "      <td>0</td>\n",
       "      <td>1</td>\n",
       "      <td>0</td>\n",
       "      <td>1</td>\n",
       "      <td>0</td>\n",
       "      <td>0</td>\n",
       "      <td>0</td>\n",
       "      <td>0</td>\n",
       "      <td>0</td>\n",
       "      <td>0</td>\n",
       "      <td>1</td>\n",
       "    </tr>\n",
       "    <tr>\n",
       "      <th>3</th>\n",
       "      <td>56</td>\n",
       "      <td>120</td>\n",
       "      <td>236</td>\n",
       "      <td>178</td>\n",
       "      <td>0.8</td>\n",
       "      <td>0</td>\n",
       "      <td>1</td>\n",
       "      <td>1</td>\n",
       "      <td>0</td>\n",
       "      <td>0</td>\n",
       "      <td>1</td>\n",
       "      <td>0</td>\n",
       "      <td>0</td>\n",
       "      <td>1</td>\n",
       "      <td>0</td>\n",
       "      <td>0</td>\n",
       "      <td>0</td>\n",
       "      <td>0</td>\n",
       "      <td>0</td>\n",
       "      <td>1</td>\n",
       "    </tr>\n",
       "    <tr>\n",
       "      <th>4</th>\n",
       "      <td>57</td>\n",
       "      <td>120</td>\n",
       "      <td>354</td>\n",
       "      <td>163</td>\n",
       "      <td>0.6</td>\n",
       "      <td>0</td>\n",
       "      <td>1</td>\n",
       "      <td>0</td>\n",
       "      <td>0</td>\n",
       "      <td>1</td>\n",
       "      <td>0</td>\n",
       "      <td>0</td>\n",
       "      <td>0</td>\n",
       "      <td>1</td>\n",
       "      <td>1</td>\n",
       "      <td>0</td>\n",
       "      <td>0</td>\n",
       "      <td>0</td>\n",
       "      <td>0</td>\n",
       "      <td>1</td>\n",
       "    </tr>\n",
       "  </tbody>\n",
       "</table>\n",
       "</div>"
      ],
      "text/plain": [
       "   Age  RestingBps  Cholestoral  MaximumHeartRate  STDepression  \\\n",
       "0   63         145          233               150           2.3   \n",
       "1   37         130          250               187           3.5   \n",
       "2   41         130          204               172           1.4   \n",
       "3   56         120          236               178           0.8   \n",
       "4   57         120          354               163           0.6   \n",
       "\n",
       "   NumberOfBloodVessel  Target  Sex_Male  ChestPain_NonAnginalPain  \\\n",
       "0                    0       1         1                         1   \n",
       "1                    0       1         1                         0   \n",
       "2                    0       1         0                         0   \n",
       "3                    0       1         1                         0   \n",
       "4                    0       1         0                         0   \n",
       "\n",
       "   ChestPain_Normal  ChestPain_TypicalAngina  FastingBloodSugar_True  \\\n",
       "0                 0                        0                       1   \n",
       "1                 0                        0                       0   \n",
       "2                 0                        1                       0   \n",
       "3                 0                        1                       0   \n",
       "4                 1                        0                       0   \n",
       "\n",
       "   RestingEcg_Normal  RestingEcg_ST-Twave  ExcerciseInducedAngina_True  \\\n",
       "0                  1                    0                            0   \n",
       "1                  0                    1                            0   \n",
       "2                  1                    0                            0   \n",
       "3                  0                    1                            0   \n",
       "4                  0                    1                            1   \n",
       "\n",
       "   Slope_Flat  Slope_Upsloping  Thalassemia_FixedDefect  Thalassemia_Normal  \\\n",
       "0           0                1                        1                   0   \n",
       "1           0                1                        0                   0   \n",
       "2           0                0                        0                   0   \n",
       "3           0                0                        0                   0   \n",
       "4           0                0                        0                   0   \n",
       "\n",
       "   Thalassemia_ReversibleDefect  \n",
       "0                             0  \n",
       "1                             1  \n",
       "2                             1  \n",
       "3                             1  \n",
       "4                             1  "
      ]
     },
     "execution_count": 31,
     "metadata": {},
     "output_type": "execute_result"
    }
   ],
   "source": [
    "df_copy.head()"
   ]
  },
  {
   "cell_type": "markdown",
   "metadata": {},
   "source": [
    "### G. Correlation matrix <a name = 'correlation'>"
   ]
  },
  {
   "cell_type": "code",
   "execution_count": 32,
   "metadata": {},
   "outputs": [],
   "source": [
    "# Defining correlation matrix\n",
    "Corr = df_copy.corr()"
   ]
  },
  {
   "cell_type": "code",
   "execution_count": 33,
   "metadata": {},
   "outputs": [
    {
     "data": {
      "image/png": "[encoded data removed]",
      "text/plain": [
       "<Figure size 1440x1440 with 2 Axes>"
      ]
     },
     "metadata": {
      "needs_background": "light"
     },
     "output_type": "display_data"
    }
   ],
   "source": [
    "plt.figure(figsize=(20,20))\n",
    "sns.heatmap(Corr,annot=True)\n",
    "plt.title('Correlation matrix')\n",
    "plt.show();"
   ]
  },
  {
   "cell_type": "markdown",
   "metadata": {},
   "source": [
    "This is the correlation between Target and the features."
   ]
  },
  {
   "cell_type": "code",
   "execution_count": 34,
   "metadata": {},
   "outputs": [
    {
     "data": {
      "text/plain": [
       "Age                            -0.224151\n",
       "RestingBps                     -0.148283\n",
       "Cholestoral                    -0.074977\n",
       "MaximumHeartRate                0.417844\n",
       "STDepression                   -0.429384\n",
       "NumberOfBloodVessel            -0.464357\n",
       "Target                          1.000000\n",
       "Sex_Male                       -0.290113\n",
       "ChestPain_NonAnginalPain        0.090167\n",
       "ChestPain_Normal               -0.508495\n",
       "ChestPain_TypicalAngina         0.245721\n",
       "FastingBloodSugar_True         -0.014649\n",
       "RestingEcg_Normal              -0.146535\n",
       "RestingEcg_ST-Twave             0.162145\n",
       "ExcerciseInducedAngina_True    -0.429199\n",
       "Slope_Flat                     -0.358611\n",
       "Slope_Upsloping                -0.061710\n",
       "Thalassemia_FixedDefect        -0.105277\n",
       "Thalassemia_Normal             -0.006642\n",
       "Thalassemia_ReversibleDefect    0.526667\n",
       "Name: Target, dtype: float64"
      ]
     },
     "execution_count": 34,
     "metadata": {},
     "output_type": "execute_result"
    }
   ],
   "source": [
    "Corr['Target']"
   ]
  },
  {
   "cell_type": "markdown",
   "metadata": {},
   "source": [
    "## 3. Machine Learning <a name = 'machine'>"
   ]
  },
  {
   "cell_type": "markdown",
   "metadata": {},
   "source": [
    "In order to perform classification methods, such as,SVM, or kNN, which use Euclidean distance, one needs to perform scale transformations to the independent variables so that each independent variable will have the same scale. But first one need to split the data set into a training data set and a test data set."
   ]
  },
  {
   "cell_type": "code",
   "execution_count": 35,
   "metadata": {},
   "outputs": [],
   "source": [
    "# Splitting independent variables and a dependent variable\n",
    "X = df_copy.drop('Target', axis = 1)\n",
    "y = df_copy['Target']"
   ]
  },
  {
   "cell_type": "code",
   "execution_count": 38,
   "metadata": {},
   "outputs": [
    {
     "data": {
      "text/html": [
       "<div>\n",
       "<style scoped>\n",
       "    .dataframe tbody tr th:only-of-type {\n",
       "        vertical-align: middle;\n",
       "    }\n",
       "\n",
       "    .dataframe tbody tr th {\n",
       "        vertical-align: top;\n",
       "    }\n",
       "\n",
       "    .dataframe thead th {\n",
       "        text-align: right;\n",
       "    }\n",
       "</style>\n",
       "<table border=\"1\" class=\"dataframe\">\n",
       "  <thead>\n",
       "    <tr style=\"text-align: right;\">\n",
       "      <th></th>\n",
       "      <th>Age</th>\n",
       "      <th>RestingBps</th>\n",
       "      <th>Cholestoral</th>\n",
       "      <th>MaximumHeartRate</th>\n",
       "      <th>STDepression</th>\n",
       "      <th>NumberOfBloodVessel</th>\n",
       "      <th>Sex_Male</th>\n",
       "      <th>ChestPain_NonAnginalPain</th>\n",
       "      <th>ChestPain_Normal</th>\n",
       "      <th>ChestPain_TypicalAngina</th>\n",
       "      <th>FastingBloodSugar_True</th>\n",
       "      <th>RestingEcg_Normal</th>\n",
       "      <th>RestingEcg_ST-Twave</th>\n",
       "      <th>ExcerciseInducedAngina_True</th>\n",
       "      <th>Slope_Flat</th>\n",
       "      <th>Slope_Upsloping</th>\n",
       "      <th>Thalassemia_FixedDefect</th>\n",
       "      <th>Thalassemia_Normal</th>\n",
       "      <th>Thalassemia_ReversibleDefect</th>\n",
       "    </tr>\n",
       "  </thead>\n",
       "  <tbody>\n",
       "    <tr>\n",
       "      <th>0</th>\n",
       "      <td>63</td>\n",
       "      <td>145</td>\n",
       "      <td>233</td>\n",
       "      <td>150</td>\n",
       "      <td>2.3</td>\n",
       "      <td>0</td>\n",
       "      <td>1</td>\n",
       "      <td>1</td>\n",
       "      <td>0</td>\n",
       "      <td>0</td>\n",
       "      <td>1</td>\n",
       "      <td>1</td>\n",
       "      <td>0</td>\n",
       "      <td>0</td>\n",
       "      <td>0</td>\n",
       "      <td>1</td>\n",
       "      <td>1</td>\n",
       "      <td>0</td>\n",
       "      <td>0</td>\n",
       "    </tr>\n",
       "    <tr>\n",
       "      <th>1</th>\n",
       "      <td>37</td>\n",
       "      <td>130</td>\n",
       "      <td>250</td>\n",
       "      <td>187</td>\n",
       "      <td>3.5</td>\n",
       "      <td>0</td>\n",
       "      <td>1</td>\n",
       "      <td>0</td>\n",
       "      <td>0</td>\n",
       "      <td>0</td>\n",
       "      <td>0</td>\n",
       "      <td>0</td>\n",
       "      <td>1</td>\n",
       "      <td>0</td>\n",
       "      <td>0</td>\n",
       "      <td>1</td>\n",
       "      <td>0</td>\n",
       "      <td>0</td>\n",
       "      <td>1</td>\n",
       "    </tr>\n",
       "    <tr>\n",
       "      <th>2</th>\n",
       "      <td>41</td>\n",
       "      <td>130</td>\n",
       "      <td>204</td>\n",
       "      <td>172</td>\n",
       "      <td>1.4</td>\n",
       "      <td>0</td>\n",
       "      <td>0</td>\n",
       "      <td>0</td>\n",
       "      <td>0</td>\n",
       "      <td>1</td>\n",
       "      <td>0</td>\n",
       "      <td>1</td>\n",
       "      <td>0</td>\n",
       "      <td>0</td>\n",
       "      <td>0</td>\n",
       "      <td>0</td>\n",
       "      <td>0</td>\n",
       "      <td>0</td>\n",
       "      <td>1</td>\n",
       "    </tr>\n",
       "    <tr>\n",
       "      <th>3</th>\n",
       "      <td>56</td>\n",
       "      <td>120</td>\n",
       "      <td>236</td>\n",
       "      <td>178</td>\n",
       "      <td>0.8</td>\n",
       "      <td>0</td>\n",
       "      <td>1</td>\n",
       "      <td>0</td>\n",
       "      <td>0</td>\n",
       "      <td>1</td>\n",
       "      <td>0</td>\n",
       "      <td>0</td>\n",
       "      <td>1</td>\n",
       "      <td>0</td>\n",
       "      <td>0</td>\n",
       "      <td>0</td>\n",
       "      <td>0</td>\n",
       "      <td>0</td>\n",
       "      <td>1</td>\n",
       "    </tr>\n",
       "    <tr>\n",
       "      <th>4</th>\n",
       "      <td>57</td>\n",
       "      <td>120</td>\n",
       "      <td>354</td>\n",
       "      <td>163</td>\n",
       "      <td>0.6</td>\n",
       "      <td>0</td>\n",
       "      <td>0</td>\n",
       "      <td>0</td>\n",
       "      <td>1</td>\n",
       "      <td>0</td>\n",
       "      <td>0</td>\n",
       "      <td>0</td>\n",
       "      <td>1</td>\n",
       "      <td>1</td>\n",
       "      <td>0</td>\n",
       "      <td>0</td>\n",
       "      <td>0</td>\n",
       "      <td>0</td>\n",
       "      <td>1</td>\n",
       "    </tr>\n",
       "  </tbody>\n",
       "</table>\n",
       "</div>"
      ],
      "text/plain": [
       "   Age  RestingBps  Cholestoral  MaximumHeartRate  STDepression  \\\n",
       "0   63         145          233               150           2.3   \n",
       "1   37         130          250               187           3.5   \n",
       "2   41         130          204               172           1.4   \n",
       "3   56         120          236               178           0.8   \n",
       "4   57         120          354               163           0.6   \n",
       "\n",
       "   NumberOfBloodVessel  Sex_Male  ChestPain_NonAnginalPain  ChestPain_Normal  \\\n",
       "0                    0         1                         1                 0   \n",
       "1                    0         1                         0                 0   \n",
       "2                    0         0                         0                 0   \n",
       "3                    0         1                         0                 0   \n",
       "4                    0         0                         0                 1   \n",
       "\n",
       "   ChestPain_TypicalAngina  FastingBloodSugar_True  RestingEcg_Normal  \\\n",
       "0                        0                       1                  1   \n",
       "1                        0                       0                  0   \n",
       "2                        1                       0                  1   \n",
       "3                        1                       0                  0   \n",
       "4                        0                       0                  0   \n",
       "\n",
       "   RestingEcg_ST-Twave  ExcerciseInducedAngina_True  Slope_Flat  \\\n",
       "0                    0                            0           0   \n",
       "1                    1                            0           0   \n",
       "2                    0                            0           0   \n",
       "3                    1                            0           0   \n",
       "4                    1                            1           0   \n",
       "\n",
       "   Slope_Upsloping  Thalassemia_FixedDefect  Thalassemia_Normal  \\\n",
       "0                1                        1                   0   \n",
       "1                1                        0                   0   \n",
       "2                0                        0                   0   \n",
       "3                0                        0                   0   \n",
       "4                0                        0                   0   \n",
       "\n",
       "   Thalassemia_ReversibleDefect  \n",
       "0                             0  \n",
       "1                             1  \n",
       "2                             1  \n",
       "3                             1  \n",
       "4                             1  "
      ]
     },
     "execution_count": 38,
     "metadata": {},
     "output_type": "execute_result"
    }
   ],
   "source": [
    "X.head()"
   ]
  },
  {
   "cell_type": "code",
   "execution_count": 40,
   "metadata": {},
   "outputs": [],
   "source": [
    "# Splitting the dataset into the Training set and Test set\n",
    "from sklearn.model_selection import train_test_split\n",
    "X_train, X_test, y_train, y_test = train_test_split(X, y, test_size = 0.25, random_state = 0)"
   ]
  },
  {
   "cell_type": "code",
   "execution_count": 41,
   "metadata": {},
   "outputs": [
    {
     "data": {
      "text/html": [
       "<div>\n",
       "<style scoped>\n",
       "    .dataframe tbody tr th:only-of-type {\n",
       "        vertical-align: middle;\n",
       "    }\n",
       "\n",
       "    .dataframe tbody tr th {\n",
       "        vertical-align: top;\n",
       "    }\n",
       "\n",
       "    .dataframe thead th {\n",
       "        text-align: right;\n",
       "    }\n",
       "</style>\n",
       "<table border=\"1\" class=\"dataframe\">\n",
       "  <thead>\n",
       "    <tr style=\"text-align: right;\">\n",
       "      <th></th>\n",
       "      <th>Age</th>\n",
       "      <th>RestingBps</th>\n",
       "      <th>Cholestoral</th>\n",
       "      <th>MaximumHeartRate</th>\n",
       "      <th>STDepression</th>\n",
       "      <th>NumberOfBloodVessel</th>\n",
       "      <th>Sex_Male</th>\n",
       "      <th>ChestPain_NonAnginalPain</th>\n",
       "      <th>ChestPain_Normal</th>\n",
       "      <th>ChestPain_TypicalAngina</th>\n",
       "      <th>FastingBloodSugar_True</th>\n",
       "      <th>RestingEcg_Normal</th>\n",
       "      <th>RestingEcg_ST-Twave</th>\n",
       "      <th>ExcerciseInducedAngina_True</th>\n",
       "      <th>Slope_Flat</th>\n",
       "      <th>Slope_Upsloping</th>\n",
       "      <th>Thalassemia_FixedDefect</th>\n",
       "      <th>Thalassemia_Normal</th>\n",
       "      <th>Thalassemia_ReversibleDefect</th>\n",
       "    </tr>\n",
       "  </thead>\n",
       "  <tbody>\n",
       "    <tr>\n",
       "      <th>165</th>\n",
       "      <td>67</td>\n",
       "      <td>160</td>\n",
       "      <td>286</td>\n",
       "      <td>108</td>\n",
       "      <td>1.5</td>\n",
       "      <td>3</td>\n",
       "      <td>1</td>\n",
       "      <td>0</td>\n",
       "      <td>1</td>\n",
       "      <td>0</td>\n",
       "      <td>0</td>\n",
       "      <td>1</td>\n",
       "      <td>0</td>\n",
       "      <td>1</td>\n",
       "      <td>1</td>\n",
       "      <td>0</td>\n",
       "      <td>0</td>\n",
       "      <td>0</td>\n",
       "      <td>1</td>\n",
       "    </tr>\n",
       "    <tr>\n",
       "      <th>90</th>\n",
       "      <td>48</td>\n",
       "      <td>124</td>\n",
       "      <td>255</td>\n",
       "      <td>175</td>\n",
       "      <td>0.0</td>\n",
       "      <td>2</td>\n",
       "      <td>1</td>\n",
       "      <td>0</td>\n",
       "      <td>0</td>\n",
       "      <td>0</td>\n",
       "      <td>1</td>\n",
       "      <td>0</td>\n",
       "      <td>1</td>\n",
       "      <td>0</td>\n",
       "      <td>0</td>\n",
       "      <td>0</td>\n",
       "      <td>0</td>\n",
       "      <td>0</td>\n",
       "      <td>1</td>\n",
       "    </tr>\n",
       "    <tr>\n",
       "      <th>249</th>\n",
       "      <td>69</td>\n",
       "      <td>140</td>\n",
       "      <td>254</td>\n",
       "      <td>146</td>\n",
       "      <td>2.0</td>\n",
       "      <td>3</td>\n",
       "      <td>1</td>\n",
       "      <td>0</td>\n",
       "      <td>0</td>\n",
       "      <td>0</td>\n",
       "      <td>0</td>\n",
       "      <td>1</td>\n",
       "      <td>0</td>\n",
       "      <td>0</td>\n",
       "      <td>1</td>\n",
       "      <td>0</td>\n",
       "      <td>0</td>\n",
       "      <td>0</td>\n",
       "      <td>0</td>\n",
       "    </tr>\n",
       "    <tr>\n",
       "      <th>161</th>\n",
       "      <td>55</td>\n",
       "      <td>132</td>\n",
       "      <td>342</td>\n",
       "      <td>166</td>\n",
       "      <td>1.2</td>\n",
       "      <td>0</td>\n",
       "      <td>0</td>\n",
       "      <td>0</td>\n",
       "      <td>0</td>\n",
       "      <td>1</td>\n",
       "      <td>0</td>\n",
       "      <td>0</td>\n",
       "      <td>1</td>\n",
       "      <td>0</td>\n",
       "      <td>0</td>\n",
       "      <td>0</td>\n",
       "      <td>0</td>\n",
       "      <td>0</td>\n",
       "      <td>1</td>\n",
       "    </tr>\n",
       "    <tr>\n",
       "      <th>204</th>\n",
       "      <td>62</td>\n",
       "      <td>160</td>\n",
       "      <td>164</td>\n",
       "      <td>145</td>\n",
       "      <td>6.2</td>\n",
       "      <td>3</td>\n",
       "      <td>0</td>\n",
       "      <td>0</td>\n",
       "      <td>1</td>\n",
       "      <td>0</td>\n",
       "      <td>0</td>\n",
       "      <td>1</td>\n",
       "      <td>0</td>\n",
       "      <td>0</td>\n",
       "      <td>0</td>\n",
       "      <td>1</td>\n",
       "      <td>0</td>\n",
       "      <td>0</td>\n",
       "      <td>0</td>\n",
       "    </tr>\n",
       "  </tbody>\n",
       "</table>\n",
       "</div>"
      ],
      "text/plain": [
       "     Age  RestingBps  Cholestoral  MaximumHeartRate  STDepression  \\\n",
       "165   67         160          286               108           1.5   \n",
       "90    48         124          255               175           0.0   \n",
       "249   69         140          254               146           2.0   \n",
       "161   55         132          342               166           1.2   \n",
       "204   62         160          164               145           6.2   \n",
       "\n",
       "     NumberOfBloodVessel  Sex_Male  ChestPain_NonAnginalPain  \\\n",
       "165                    3         1                         0   \n",
       "90                     2         1                         0   \n",
       "249                    3         1                         0   \n",
       "161                    0         0                         0   \n",
       "204                    3         0                         0   \n",
       "\n",
       "     ChestPain_Normal  ChestPain_TypicalAngina  FastingBloodSugar_True  \\\n",
       "165                 1                        0                       0   \n",
       "90                  0                        0                       1   \n",
       "249                 0                        0                       0   \n",
       "161                 0                        1                       0   \n",
       "204                 1                        0                       0   \n",
       "\n",
       "     RestingEcg_Normal  RestingEcg_ST-Twave  ExcerciseInducedAngina_True  \\\n",
       "165                  1                    0                            1   \n",
       "90                   0                    1                            0   \n",
       "249                  1                    0                            0   \n",
       "161                  0                    1                            0   \n",
       "204                  1                    0                            0   \n",
       "\n",
       "     Slope_Flat  Slope_Upsloping  Thalassemia_FixedDefect  Thalassemia_Normal  \\\n",
       "165           1                0                        0                   0   \n",
       "90            0                0                        0                   0   \n",
       "249           1                0                        0                   0   \n",
       "161           0                0                        0                   0   \n",
       "204           0                1                        0                   0   \n",
       "\n",
       "     Thalassemia_ReversibleDefect  \n",
       "165                             1  \n",
       "90                              1  \n",
       "249                             0  \n",
       "161                             1  \n",
       "204                             0  "
      ]
     },
     "execution_count": 41,
     "metadata": {},
     "output_type": "execute_result"
    }
   ],
   "source": [
    "X_train.head()"
   ]
  },
  {
   "cell_type": "code",
   "execution_count": 42,
   "metadata": {},
   "outputs": [],
   "source": [
    "# Performing a scale transformation on the training data set.\n",
    "from sklearn.preprocessing import StandardScaler\n",
    "sc = StandardScaler()\n",
    "X_train = sc.fit_transform(X_train)\n",
    "X_test = sc.transform(X_test)"
   ]
  },
  {
   "cell_type": "code",
   "execution_count": 43,
   "metadata": {},
   "outputs": [],
   "source": [
    "# Putting back columns after rescale\n",
    "X_train = pd.DataFrame(X_train, columns=X.columns)\n",
    "X_test = pd.DataFrame(X_test, columns=X.columns)"
   ]
  },
  {
   "cell_type": "markdown",
   "metadata": {},
   "source": [
    "### A. Logistic Regression <a name ='logistic'>"
   ]
  },
  {
   "cell_type": "code",
   "execution_count": 45,
   "metadata": {},
   "outputs": [
    {
     "data": {
      "text/plain": [
       "LogisticRegression(C=1.0, class_weight=None, dual=False, fit_intercept=True,\n",
       "                   intercept_scaling=1, l1_ratio=None, max_iter=100,\n",
       "                   multi_class='warn', n_jobs=None, penalty='l2',\n",
       "                   random_state=0, solver='warn', tol=0.0001, verbose=0,\n",
       "                   warm_start=False)"
      ]
     },
     "execution_count": 45,
     "metadata": {},
     "output_type": "execute_result"
    }
   ],
   "source": [
    "# Fitting Logistic Regression to the Training set\n",
    "from sklearn.linear_model import LogisticRegression\n",
    "classifier_Logistic = LogisticRegression(random_state = 0)\n",
    "classifier_Logistic.fit(X_train, y_train)"
   ]
  },
  {
   "cell_type": "code",
   "execution_count": 49,
   "metadata": {},
   "outputs": [],
   "source": [
    " # Applying k-Fold Cross Validation\n",
    "from sklearn.model_selection import cross_val_score\n",
    "accuracies_Logistic = cross_val_score(estimator = classifier_Logistic, \n",
    "                                      X = X_train, \n",
    "                                      y = y_train, \n",
    "                                      cv = 10)"
   ]
  },
  {
   "cell_type": "code",
   "execution_count": 50,
   "metadata": {},
   "outputs": [
    {
     "data": {
      "text/plain": [
       "array([0.91304348, 0.91304348, 0.91304348, 0.95652174, 0.82608696,\n",
       "       0.7826087 , 0.81818182, 0.76190476, 0.95238095, 0.85714286])"
      ]
     },
     "execution_count": 50,
     "metadata": {},
     "output_type": "execute_result"
    }
   ],
   "source": [
    "accuracies_Logistic"
   ]
  },
  {
   "cell_type": "code",
   "execution_count": 55,
   "metadata": {},
   "outputs": [
    {
     "data": {
      "text/plain": [
       "0.8693958215697346"
      ]
     },
     "execution_count": 55,
     "metadata": {},
     "output_type": "execute_result"
    }
   ],
   "source": [
    "accuracies_Logistic.mean()"
   ]
  },
  {
   "cell_type": "markdown",
   "metadata": {},
   "source": [
    "That means on avarage when evaluating the model on th traning set the average accuracy is 86.9%."
   ]
  },
  {
   "cell_type": "code",
   "execution_count": 56,
   "metadata": {},
   "outputs": [],
   "source": [
    "# Predicting the Test set results\n",
    "y_pred_Logistic = classifier_Logistic.predict(X_test)"
   ]
  },
  {
   "cell_type": "code",
   "execution_count": 57,
   "metadata": {},
   "outputs": [],
   "source": [
    "# Making the Confusion Matrix\n",
    "from sklearn.metrics import confusion_matrix\n",
    "cm_LogisticRegression = confusion_matrix(y_test, y_pred_Logistic)"
   ]
  },
  {
   "cell_type": "code",
   "execution_count": 58,
   "metadata": {},
   "outputs": [
    {
     "data": {
      "image/png": "[encoded data removed]",
      "text/plain": [
       "<Figure size 360x360 with 2 Axes>"
      ]
     },
     "metadata": {
      "needs_background": "light"
     },
     "output_type": "display_data"
    }
   ],
   "source": [
    "plt.figure(figsize=(5,5))\n",
    "sns.heatmap(cm_LogisticRegression,annot=True)\n",
    "plt.title('Confusion matrix')\n",
    "plt.show();"
   ]
  },
  {
   "cell_type": "code",
   "execution_count": 60,
   "metadata": {},
   "outputs": [],
   "source": [
    "# Importing accuracy score\n",
    "from sklearn.metrics import accuracy_score\n",
    "accuracy_Logistic = accuracy_score(y_test, y_pred_Logistic)"
   ]
  },
  {
   "cell_type": "code",
   "execution_count": 61,
   "metadata": {},
   "outputs": [
    {
     "data": {
      "text/plain": [
       "0.8133333333333334"
      ]
     },
     "execution_count": 61,
     "metadata": {},
     "output_type": "execute_result"
    }
   ],
   "source": [
    "accuracy_Logistic"
   ]
  },
  {
   "cell_type": "markdown",
   "metadata": {},
   "source": [
    "When evaluating the model on the test set, the accuracy is 81.3%."
   ]
  },
  {
   "cell_type": "markdown",
   "metadata": {},
   "source": [
    "### B. Support Vector Machine (SVM) <a name = 'SVM'>"
   ]
  },
  {
   "cell_type": "code",
   "execution_count": 63,
   "metadata": {},
   "outputs": [
    {
     "data": {
      "text/plain": [
       "SVC(C=1.0, cache_size=200, class_weight=None, coef0=0.0,\n",
       "    decision_function_shape='ovr', degree=3, gamma='auto_deprecated',\n",
       "    kernel='linear', max_iter=-1, probability=False, random_state=0,\n",
       "    shrinking=True, tol=0.001, verbose=False)"
      ]
     },
     "execution_count": 63,
     "metadata": {},
     "output_type": "execute_result"
    }
   ],
   "source": [
    "# Fitting SVM to the Training set\n",
    "from sklearn.svm import SVC\n",
    "classifier_SVM = SVC(kernel = 'linear', random_state = 0)\n",
    "classifier_SVM.fit(X_train, y_train)"
   ]
  },
  {
   "cell_type": "code",
   "execution_count": 77,
   "metadata": {},
   "outputs": [],
   "source": [
    "# Applying Grid Search to find the best model and the best parameters\n",
    "from sklearn.model_selection import GridSearchCV"
   ]
  },
  {
   "cell_type": "markdown",
   "metadata": {},
   "source": [
    "Using grid search to find the optimum value of parametes."
   ]
  },
  {
   "cell_type": "code",
   "execution_count": 78,
   "metadata": {},
   "outputs": [],
   "source": [
    "# Paremeter tuning\n",
    "parameters_SVM = [{'C': [1, 10, 100, 1000],\n",
    "                   'kernel': ['linear']},\n",
    "              {'C': [1, 10, 100, 1000], \n",
    "               'kernel': ['rbf'], \n",
    "               'gamma': [0.1, 0.2, 0.3, 0.4, 0.5, 0.6, 0.7, 0.8, 0.9]}]"
   ]
  },
  {
   "cell_type": "code",
   "execution_count": 79,
   "metadata": {},
   "outputs": [],
   "source": [
    "# Declaring grid search\n",
    "grid_search_SVM = GridSearchCV(estimator = classifier_SVM,\n",
    "                           param_grid = parameters_SVM,\n",
    "                           scoring = 'accuracy',\n",
    "                           cv = 10,\n",
    "                           n_jobs = -1)"
   ]
  },
  {
   "cell_type": "code",
   "execution_count": 80,
   "metadata": {},
   "outputs": [
    {
     "name": "stderr",
     "output_type": "stream",
     "text": [
      "/Users/BuegPhysics/anaconda3/lib/python3.6/site-packages/sklearn/model_selection/_search.py:813: DeprecationWarning: The default of the `iid` parameter will change from True to False in version 0.22 and will be removed in 0.24. This will change numeric results when test-set sizes are unequal.\n",
      "  DeprecationWarning)\n"
     ]
    }
   ],
   "source": [
    "grid_search_SVM = grid_search_SVM.fit(X_train, y_train)"
   ]
  },
  {
   "cell_type": "code",
   "execution_count": 81,
   "metadata": {},
   "outputs": [],
   "source": [
    "best_parameter_SVM = grid_search_SVM.best_params_"
   ]
  },
  {
   "cell_type": "code",
   "execution_count": 82,
   "metadata": {},
   "outputs": [
    {
     "data": {
      "text/plain": [
       "{'C': 1, 'kernel': 'linear'}"
      ]
     },
     "execution_count": 82,
     "metadata": {},
     "output_type": "execute_result"
    }
   ],
   "source": [
    "best_parameter_SVM"
   ]
  },
  {
   "cell_type": "markdown",
   "metadata": {},
   "source": [
    "Traing the model with the best parameters from grid search."
   ]
  },
  {
   "cell_type": "code",
   "execution_count": 83,
   "metadata": {},
   "outputs": [
    {
     "data": {
      "text/plain": [
       "SVC(C=1.0, cache_size=200, class_weight=None, coef0=0.0,\n",
       "    decision_function_shape='ovr', degree=3, gamma='auto_deprecated',\n",
       "    kernel='linear', max_iter=-1, probability=False, random_state=0,\n",
       "    shrinking=True, tol=0.001, verbose=False)"
      ]
     },
     "execution_count": 83,
     "metadata": {},
     "output_type": "execute_result"
    }
   ],
   "source": [
    "classifier_SVM = SVC(kernel = 'linear', random_state = 0)\n",
    "classifier_SVM.fit(X_train, y_train)"
   ]
  },
  {
   "cell_type": "markdown",
   "metadata": {},
   "source": [
    "Performing cross-validation on the traning set."
   ]
  },
  {
   "cell_type": "code",
   "execution_count": 84,
   "metadata": {},
   "outputs": [],
   "source": [
    "accuracies_SVM = cross_val_score(estimator=classifier_SVM,\n",
    "                                X=X_train,\n",
    "                                y=y_train,\n",
    "                                cv=10)"
   ]
  },
  {
   "cell_type": "code",
   "execution_count": 85,
   "metadata": {},
   "outputs": [
    {
     "data": {
      "text/plain": [
       "array([0.91304348, 0.91304348, 0.95652174, 0.95652174, 0.82608696,\n",
       "       0.82608696, 0.81818182, 0.80952381, 0.95238095, 0.9047619 ])"
      ]
     },
     "execution_count": 85,
     "metadata": {},
     "output_type": "execute_result"
    }
   ],
   "source": [
    "accuracies_SVM"
   ]
  },
  {
   "cell_type": "code",
   "execution_count": 86,
   "metadata": {},
   "outputs": [
    {
     "data": {
      "text/plain": [
       "0.8876152832674572"
      ]
     },
     "execution_count": 86,
     "metadata": {},
     "output_type": "execute_result"
    }
   ],
   "source": [
    "accuracies_SVM.mean()"
   ]
  },
  {
   "cell_type": "markdown",
   "metadata": {},
   "source": [
    "On average, the accuracy on the traning set of SVM model is 88.9%."
   ]
  },
  {
   "cell_type": "code",
   "execution_count": 87,
   "metadata": {},
   "outputs": [],
   "source": [
    "y_pred_SVM = classifier_SVM.predict(X_test)"
   ]
  },
  {
   "cell_type": "code",
   "execution_count": 88,
   "metadata": {},
   "outputs": [],
   "source": [
    "cm_SVM = confusion_matrix(y_test, y_pred_SVM)"
   ]
  },
  {
   "cell_type": "code",
   "execution_count": 89,
   "metadata": {},
   "outputs": [
    {
     "data": {
      "image/png": "[encoded data removed]",
      "text/plain": [
       "<Figure size 360x360 with 2 Axes>"
      ]
     },
     "metadata": {
      "needs_background": "light"
     },
     "output_type": "display_data"
    }
   ],
   "source": [
    "plt.figure(figsize=(5,5))\n",
    "sns.heatmap(cm_SVM,annot=True)\n",
    "plt.title('Confusion matrix')\n",
    "plt.show();"
   ]
  },
  {
   "cell_type": "code",
   "execution_count": 116,
   "metadata": {},
   "outputs": [],
   "source": [
    "accuracy_SVM = accuracy_score(y_test, y_pred_SVM)"
   ]
  },
  {
   "cell_type": "code",
   "execution_count": 117,
   "metadata": {},
   "outputs": [
    {
     "data": {
      "text/plain": [
       "0.8133333333333334"
      ]
     },
     "execution_count": 117,
     "metadata": {},
     "output_type": "execute_result"
    }
   ],
   "source": [
    "accuracy_SVM"
   ]
  },
  {
   "cell_type": "markdown",
   "metadata": {},
   "source": [
    "The accuracy of this model evaluating on test set is 81.3%."
   ]
  },
  {
   "cell_type": "markdown",
   "metadata": {},
   "source": [
    "Grid search tells us that the best parameter C is equal to 1, which is the default value, and the kernel function is a linear function. The best accuracy that we got is the average accuracy from cross validation of linearSVM model."
   ]
  },
  {
   "cell_type": "markdown",
   "metadata": {},
   "source": [
    "### C. k Nearest-Neighbor (kNN) <a name = 'kNN'>"
   ]
  },
  {
   "cell_type": "code",
   "execution_count": 92,
   "metadata": {},
   "outputs": [
    {
     "data": {
      "text/plain": [
       "KNeighborsClassifier(algorithm='auto', leaf_size=30, metric='minkowski',\n",
       "                     metric_params=None, n_jobs=None, n_neighbors=5, p=2,\n",
       "                     weights='uniform')"
      ]
     },
     "execution_count": 92,
     "metadata": {},
     "output_type": "execute_result"
    }
   ],
   "source": [
    "# Fitting K-NN to the Training set\n",
    "from sklearn.neighbors import KNeighborsClassifier\n",
    "classifier_kNN = KNeighborsClassifier(n_neighbors = 5, metric = 'minkowski', p = 2)\n",
    "classifier_kNN.fit(X_train, y_train)"
   ]
  },
  {
   "cell_type": "code",
   "execution_count": 93,
   "metadata": {},
   "outputs": [],
   "source": [
    "parameters_kNN = [{'n_neighbors': range(1,15,1)}]"
   ]
  },
  {
   "cell_type": "markdown",
   "metadata": {},
   "source": [
    "Performing grid search to find the optimum value of the number of neighbours(k)."
   ]
  },
  {
   "cell_type": "code",
   "execution_count": 105,
   "metadata": {},
   "outputs": [],
   "source": [
    "grid_search_kNN = GridSearchCV(estimator=classifier_kNN,\n",
    "                              param_grid=parameters_kNN,\n",
    "                              scoring='accuracy',\n",
    "                              cv=10,\n",
    "                              n_jobs=-1)"
   ]
  },
  {
   "cell_type": "code",
   "execution_count": 106,
   "metadata": {},
   "outputs": [
    {
     "name": "stderr",
     "output_type": "stream",
     "text": [
      "/Users/BuegPhysics/anaconda3/lib/python3.6/site-packages/sklearn/model_selection/_search.py:813: DeprecationWarning: The default of the `iid` parameter will change from True to False in version 0.22 and will be removed in 0.24. This will change numeric results when test-set sizes are unequal.\n",
      "  DeprecationWarning)\n"
     ]
    }
   ],
   "source": [
    "grid_search_kNN =grid_search_kNN.fit(X_train,y_train)"
   ]
  },
  {
   "cell_type": "code",
   "execution_count": 107,
   "metadata": {},
   "outputs": [
    {
     "data": {
      "text/plain": [
       "{'n_neighbors': 3}"
      ]
     },
     "execution_count": 107,
     "metadata": {},
     "output_type": "execute_result"
    }
   ],
   "source": [
    "grid_search_kNN.best_params_"
   ]
  },
  {
   "cell_type": "markdown",
   "metadata": {},
   "source": [
    "The best number of neighbours is three. The model will be trained with the number of neighbours equal three."
   ]
  },
  {
   "cell_type": "code",
   "execution_count": 108,
   "metadata": {},
   "outputs": [
    {
     "data": {
      "text/plain": [
       "KNeighborsClassifier(algorithm='auto', leaf_size=30, metric='minkowski',\n",
       "                     metric_params=None, n_jobs=None, n_neighbors=3, p=2,\n",
       "                     weights='uniform')"
      ]
     },
     "execution_count": 108,
     "metadata": {},
     "output_type": "execute_result"
    }
   ],
   "source": [
    "classifier_kNN = KNeighborsClassifier(n_neighbors = 3, metric = 'minkowski', p = 2)\n",
    "classifier_kNN.fit(X_train, y_train)"
   ]
  },
  {
   "cell_type": "markdown",
   "metadata": {},
   "source": [
    "Performing cross-validation on the training set with the new model with the number of neighbours equal three."
   ]
  },
  {
   "cell_type": "code",
   "execution_count": 109,
   "metadata": {},
   "outputs": [],
   "source": [
    "accuracies_kNN = cross_val_score(estimator=classifier_kNN,\n",
    "                                X=X_train,\n",
    "                                y=y_train,\n",
    "                                cv=10)"
   ]
  },
  {
   "cell_type": "code",
   "execution_count": 110,
   "metadata": {},
   "outputs": [
    {
     "data": {
      "text/plain": [
       "array([0.91304348, 0.86956522, 0.91304348, 0.82608696, 0.82608696,\n",
       "       0.73913043, 0.90909091, 0.76190476, 0.9047619 , 0.85714286])"
      ]
     },
     "execution_count": 110,
     "metadata": {},
     "output_type": "execute_result"
    }
   ],
   "source": [
    "accuracies_kNN"
   ]
  },
  {
   "cell_type": "code",
   "execution_count": 111,
   "metadata": {},
   "outputs": [
    {
     "data": {
      "text/plain": [
       "0.8519856954639563"
      ]
     },
     "execution_count": 111,
     "metadata": {},
     "output_type": "execute_result"
    }
   ],
   "source": [
    "accuracies_kNN.mean()"
   ]
  },
  {
   "cell_type": "markdown",
   "metadata": {},
   "source": [
    "On average, the accuracy on the training set is 85.1%. Next, making the prediction on the test set."
   ]
  },
  {
   "cell_type": "code",
   "execution_count": 112,
   "metadata": {},
   "outputs": [],
   "source": [
    "y_pred_kNN = classifier_kNN.predict(X_test)"
   ]
  },
  {
   "cell_type": "code",
   "execution_count": 113,
   "metadata": {},
   "outputs": [],
   "source": [
    "cm_kNN = confusion_matrix(y_test, y_pred_kNN)"
   ]
  },
  {
   "cell_type": "code",
   "execution_count": 114,
   "metadata": {},
   "outputs": [
    {
     "data": {
      "image/png": "[encoded data removed]",
      "text/plain": [
       "<Figure size 360x360 with 2 Axes>"
      ]
     },
     "metadata": {
      "needs_background": "light"
     },
     "output_type": "display_data"
    }
   ],
   "source": [
    "plt.figure(figsize=(5,5))\n",
    "sns.heatmap(cm_kNN,annot=True)\n",
    "plt.title('Confusion matrix')\n",
    "plt.show();"
   ]
  },
  {
   "cell_type": "code",
   "execution_count": 118,
   "metadata": {},
   "outputs": [],
   "source": [
    "accuracy_kNN = accuracy_score(y_test, y_pred_kNN)"
   ]
  },
  {
   "cell_type": "code",
   "execution_count": 119,
   "metadata": {},
   "outputs": [
    {
     "data": {
      "text/plain": [
       "0.7866666666666666"
      ]
     },
     "execution_count": 119,
     "metadata": {},
     "output_type": "execute_result"
    }
   ],
   "source": [
    "accuracy_kNN"
   ]
  },
  {
   "cell_type": "markdown",
   "metadata": {},
   "source": [
    "The accuracy score on the test set is 78.6%"
   ]
  },
  {
   "cell_type": "markdown",
   "metadata": {},
   "source": [
    "### D. Naive Bayes' classification <a name = 'naive'>"
   ]
  },
  {
   "cell_type": "code",
   "execution_count": 120,
   "metadata": {},
   "outputs": [
    {
     "data": {
      "text/plain": [
       "GaussianNB(priors=None, var_smoothing=1e-09)"
      ]
     },
     "execution_count": 120,
     "metadata": {},
     "output_type": "execute_result"
    }
   ],
   "source": [
    "# Fitting Naive Bayes' method to training set\n",
    "from sklearn.naive_bayes import GaussianNB\n",
    "classifier_naive_bayes = GaussianNB()\n",
    "classifier_naive_bayes.fit(X_train, y_train)"
   ]
  },
  {
   "cell_type": "code",
   "execution_count": 63,
   "metadata": {},
   "outputs": [],
   "source": [
    "y_pred_naive = classifier4.predict(X_test)"
   ]
  },
  {
   "cell_type": "markdown",
   "metadata": {},
   "source": [
    "Performing cross-validation on the training set."
   ]
  },
  {
   "cell_type": "code",
   "execution_count": 121,
   "metadata": {},
   "outputs": [],
   "source": [
    "accuracies_naive_bayes = cross_val_score(estimator=classifier_naive_bayes,\n",
    "                                        X=X_train,\n",
    "                                        y=y_train,\n",
    "                                        cv=10)"
   ]
  },
  {
   "cell_type": "code",
   "execution_count": 122,
   "metadata": {},
   "outputs": [
    {
     "data": {
      "text/plain": [
       "array([0.91304348, 0.91304348, 0.86956522, 0.95652174, 0.7826087 ,\n",
       "       0.52173913, 0.77272727, 0.33333333, 0.9047619 , 1.        ])"
      ]
     },
     "execution_count": 122,
     "metadata": {},
     "output_type": "execute_result"
    }
   ],
   "source": [
    "accuracies_naive_bayes"
   ]
  },
  {
   "cell_type": "code",
   "execution_count": 123,
   "metadata": {},
   "outputs": [
    {
     "data": {
      "text/plain": [
       "0.7967344249952946"
      ]
     },
     "execution_count": 123,
     "metadata": {},
     "output_type": "execute_result"
    }
   ],
   "source": [
    "accuracies_naive_bayes.mean()"
   ]
  },
  {
   "cell_type": "markdown",
   "metadata": {},
   "source": [
    "On average, the accuracy of the training set is 79.6%."
   ]
  },
  {
   "cell_type": "code",
   "execution_count": 124,
   "metadata": {},
   "outputs": [],
   "source": [
    "y_pred_naive_bayes = classifier_naive_bayes.predict(X_test)"
   ]
  },
  {
   "cell_type": "code",
   "execution_count": 125,
   "metadata": {},
   "outputs": [],
   "source": [
    "cm_naive = confusion_matrix(y_test, y_pred_naive_bayes)"
   ]
  },
  {
   "cell_type": "code",
   "execution_count": 126,
   "metadata": {},
   "outputs": [
    {
     "data": {
      "image/png": "[encoded data removed]",
      "text/plain": [
       "<Figure size 360x360 with 2 Axes>"
      ]
     },
     "metadata": {
      "needs_background": "light"
     },
     "output_type": "display_data"
    }
   ],
   "source": [
    "plt.figure(figsize=(5,5))\n",
    "sns.heatmap(cm_naive,annot=True)\n",
    "plt.title('Confusion matrix')\n",
    "plt.show();"
   ]
  },
  {
   "cell_type": "code",
   "execution_count": 129,
   "metadata": {},
   "outputs": [],
   "source": [
    "accuracy_naive_bayes = accuracy_score(y_test, y_pred_naive_bayes)"
   ]
  },
  {
   "cell_type": "code",
   "execution_count": 130,
   "metadata": {},
   "outputs": [
    {
     "data": {
      "text/plain": [
       "0.8133333333333334"
      ]
     },
     "execution_count": 130,
     "metadata": {},
     "output_type": "execute_result"
    }
   ],
   "source": [
    "accuracy_naive_bayes"
   ]
  },
  {
   "cell_type": "markdown",
   "metadata": {},
   "source": [
    "The accuracy of this model on the test set is 81.3%."
   ]
  },
  {
   "cell_type": "markdown",
   "metadata": {},
   "source": [
    "### E. Decision tree classification <a name = 'tree'>"
   ]
  },
  {
   "cell_type": "markdown",
   "metadata": {},
   "source": [
    "When using the decision tree classification, the scale transformaion do not need to be performed. However, the scale transformation will make the model fitted quicker than the non-transformed model."
   ]
  },
  {
   "cell_type": "code",
   "execution_count": 131,
   "metadata": {},
   "outputs": [],
   "source": [
    "# Importing decision tree classifier\n",
    "from sklearn.tree import DecisionTreeClassifier"
   ]
  },
  {
   "cell_type": "markdown",
   "metadata": {},
   "source": [
    "There are many parameters that can be adjusted. By tuning this parameters, the overfitting of the model can be controlled. These parameters are\n",
    "1. Minimum samples for a node split\n",
    "2. Minimum samples for a terminal node\n",
    "3. Maximum depth of tree\n",
    "4. Maximum number of leaves\n",
    "5. Maximum features to split\n",
    "In this project, grid search will be used to find the optimal values for the model."
   ]
  },
  {
   "cell_type": "code",
   "execution_count": 132,
   "metadata": {},
   "outputs": [],
   "source": [
    "classifier_decision_tree = DecisionTreeClassifier()"
   ]
  },
  {
   "cell_type": "code",
   "execution_count": 133,
   "metadata": {},
   "outputs": [],
   "source": [
    "parameters_Tree = [{'min_samples_split': range(2,5,1), 'min_samples_leaf':range(1,5,1),\n",
    "                   'max_depth': range(1,7,1), 'max_leaf_nodes':range(2,10,1), 'max_features':range(1,10,1)}]"
   ]
  },
  {
   "cell_type": "code",
   "execution_count": 134,
   "metadata": {},
   "outputs": [],
   "source": [
    "grid_search_Tree = GridSearchCV(estimator = classifier_decision_tree,\n",
    "                           param_grid = parameters_Tree,\n",
    "                           scoring = 'accuracy',\n",
    "                           cv = 10,\n",
    "                           n_jobs = -1)"
   ]
  },
  {
   "cell_type": "code",
   "execution_count": 135,
   "metadata": {},
   "outputs": [
    {
     "name": "stderr",
     "output_type": "stream",
     "text": [
      "/Users/BuegPhysics/anaconda3/lib/python3.6/site-packages/sklearn/model_selection/_search.py:813: DeprecationWarning: The default of the `iid` parameter will change from True to False in version 0.22 and will be removed in 0.24. This will change numeric results when test-set sizes are unequal.\n",
      "  DeprecationWarning)\n"
     ]
    }
   ],
   "source": [
    "grid_search_Tree = grid_search_Tree.fit(X_train, y_train)"
   ]
  },
  {
   "cell_type": "code",
   "execution_count": 137,
   "metadata": {},
   "outputs": [],
   "source": [
    "best_parameters_Tree = grid_search_Tree.best_params_"
   ]
  },
  {
   "cell_type": "code",
   "execution_count": 138,
   "metadata": {},
   "outputs": [
    {
     "data": {
      "text/plain": [
       "{'max_depth': 6,\n",
       " 'max_features': 7,\n",
       " 'max_leaf_nodes': 8,\n",
       " 'min_samples_leaf': 2,\n",
       " 'min_samples_split': 3}"
      ]
     },
     "execution_count": 138,
     "metadata": {},
     "output_type": "execute_result"
    }
   ],
   "source": [
    "best_parameters_Tree"
   ]
  },
  {
   "cell_type": "markdown",
   "metadata": {},
   "source": [
    "Let's try to fit the decision tree model with these parameters."
   ]
  },
  {
   "cell_type": "code",
   "execution_count": 139,
   "metadata": {},
   "outputs": [],
   "source": [
    "classifier_decision_tree = DecisionTreeClassifier(max_depth=6,max_features=7,max_leaf_nodes=8,min_samples_leaf=2,min_samples_split=3)"
   ]
  },
  {
   "cell_type": "code",
   "execution_count": 140,
   "metadata": {},
   "outputs": [
    {
     "data": {
      "text/plain": [
       "DecisionTreeClassifier(class_weight=None, criterion='gini', max_depth=6,\n",
       "                       max_features=7, max_leaf_nodes=8,\n",
       "                       min_impurity_decrease=0.0, min_impurity_split=None,\n",
       "                       min_samples_leaf=2, min_samples_split=3,\n",
       "                       min_weight_fraction_leaf=0.0, presort=False,\n",
       "                       random_state=None, splitter='best')"
      ]
     },
     "execution_count": 140,
     "metadata": {},
     "output_type": "execute_result"
    }
   ],
   "source": [
    "classifier_decision_tree.fit(X_train,y_train)"
   ]
  },
  {
   "cell_type": "code",
   "execution_count": 141,
   "metadata": {},
   "outputs": [],
   "source": [
    "accuracies_decision_tree = cross_val_score(estimator=classifier_decision_tree,\n",
    "                                          X=X_train,\n",
    "                                          y=y_train,\n",
    "                                          cv=10)"
   ]
  },
  {
   "cell_type": "code",
   "execution_count": 142,
   "metadata": {},
   "outputs": [
    {
     "data": {
      "text/plain": [
       "array([0.91304348, 0.73913043, 0.91304348, 0.91304348, 0.69565217,\n",
       "       0.65217391, 0.72727273, 0.66666667, 0.85714286, 0.9047619 ])"
      ]
     },
     "execution_count": 142,
     "metadata": {},
     "output_type": "execute_result"
    }
   ],
   "source": [
    "accuracies_decision_tree"
   ]
  },
  {
   "cell_type": "code",
   "execution_count": 143,
   "metadata": {},
   "outputs": [
    {
     "data": {
      "text/plain": [
       "0.7981931112365894"
      ]
     },
     "execution_count": 143,
     "metadata": {},
     "output_type": "execute_result"
    }
   ],
   "source": [
    "accuracies_decision_tree.mean()"
   ]
  },
  {
   "cell_type": "markdown",
   "metadata": {},
   "source": [
    "On avarege, the accuracy on the training set is 79.8%."
   ]
  },
  {
   "cell_type": "code",
   "execution_count": 144,
   "metadata": {},
   "outputs": [],
   "source": [
    "y_pred_tree = classifier_decision_tree.predict(X_test)"
   ]
  },
  {
   "cell_type": "code",
   "execution_count": 145,
   "metadata": {},
   "outputs": [],
   "source": [
    "cm_tree = confusion_matrix(y_test,y_pred_tree)"
   ]
  },
  {
   "cell_type": "code",
   "execution_count": 146,
   "metadata": {},
   "outputs": [
    {
     "data": {
      "image/png": "[encoded data removed]",
      "text/plain": [
       "<Figure size 360x360 with 2 Axes>"
      ]
     },
     "metadata": {
      "needs_background": "light"
     },
     "output_type": "display_data"
    }
   ],
   "source": [
    "plt.figure(figsize=(5,5))\n",
    "sns.heatmap(cm_tree,annot=True)\n",
    "plt.title('Confusion matrix')\n",
    "plt.show();"
   ]
  },
  {
   "cell_type": "code",
   "execution_count": 147,
   "metadata": {},
   "outputs": [],
   "source": [
    "accuracy_decision_tree = accuracy_score(y_test,y_pred_tree)"
   ]
  },
  {
   "cell_type": "code",
   "execution_count": 148,
   "metadata": {},
   "outputs": [
    {
     "data": {
      "text/plain": [
       "0.7333333333333333"
      ]
     },
     "execution_count": 148,
     "metadata": {},
     "output_type": "execute_result"
    }
   ],
   "source": [
    "accuracy_decision_tree"
   ]
  },
  {
   "cell_type": "markdown",
   "metadata": {},
   "source": [
    "The accuracy of the test set is 73.3%."
   ]
  },
  {
   "cell_type": "markdown",
   "metadata": {},
   "source": [
    "### F. Random forest classification <a name = 'forest'>"
   ]
  },
  {
   "cell_type": "code",
   "execution_count": 149,
   "metadata": {},
   "outputs": [],
   "source": [
    "# Importing random forest classification\n",
    "from sklearn.ensemble import RandomForestClassifier "
   ]
  },
  {
   "cell_type": "code",
   "execution_count": 150,
   "metadata": {},
   "outputs": [],
   "source": [
    "classifier_random_forest = RandomForestClassifier(n_estimators=50,criterion='gini', random_state=0)"
   ]
  },
  {
   "cell_type": "markdown",
   "metadata": {},
   "source": [
    "Performing grid search to find the best n_estimator, and the criterion."
   ]
  },
  {
   "cell_type": "code",
   "execution_count": 151,
   "metadata": {},
   "outputs": [],
   "source": [
    "parameters_Forest = [{'n_estimators':[110,130,150,160,170,190],'criterion':['entropy','gini']}]"
   ]
  },
  {
   "cell_type": "code",
   "execution_count": 152,
   "metadata": {},
   "outputs": [],
   "source": [
    "grid_search_Forest = GridSearchCV(estimator = classifier_random_forest,\n",
    "                           param_grid = parameters_Forest,\n",
    "                           scoring = 'accuracy',\n",
    "                           cv = 10,\n",
    "                           n_jobs = -1)"
   ]
  },
  {
   "cell_type": "code",
   "execution_count": 153,
   "metadata": {},
   "outputs": [
    {
     "name": "stderr",
     "output_type": "stream",
     "text": [
      "/Users/BuegPhysics/anaconda3/lib/python3.6/site-packages/sklearn/model_selection/_search.py:813: DeprecationWarning: The default of the `iid` parameter will change from True to False in version 0.22 and will be removed in 0.24. This will change numeric results when test-set sizes are unequal.\n",
      "  DeprecationWarning)\n"
     ]
    }
   ],
   "source": [
    "grid_search_Forest=grid_search_Forest.fit(X=X_train,y=y_train)"
   ]
  },
  {
   "cell_type": "code",
   "execution_count": 154,
   "metadata": {},
   "outputs": [
    {
     "data": {
      "text/plain": [
       "{'criterion': 'gini', 'n_estimators': 130}"
      ]
     },
     "execution_count": 154,
     "metadata": {},
     "output_type": "execute_result"
    }
   ],
   "source": [
    "grid_search_Forest.best_params_"
   ]
  },
  {
   "cell_type": "markdown",
   "metadata": {},
   "source": [
    "Make a new model based on the best parameter from grid search."
   ]
  },
  {
   "cell_type": "code",
   "execution_count": 161,
   "metadata": {},
   "outputs": [
    {
     "data": {
      "text/plain": [
       "RandomForestClassifier(bootstrap=True, class_weight=None, criterion='gini',\n",
       "                       max_depth=None, max_features='auto', max_leaf_nodes=None,\n",
       "                       min_impurity_decrease=0.0, min_impurity_split=None,\n",
       "                       min_samples_leaf=1, min_samples_split=2,\n",
       "                       min_weight_fraction_leaf=0.0, n_estimators=130,\n",
       "                       n_jobs=None, oob_score=False, random_state=0, verbose=0,\n",
       "                       warm_start=False)"
      ]
     },
     "execution_count": 161,
     "metadata": {},
     "output_type": "execute_result"
    }
   ],
   "source": [
    "classifier_random_forest = RandomForestClassifier(n_estimators=130,criterion='gini', random_state=0)\n",
    "classifier_random_forest.fit(X_train,y_train)"
   ]
  },
  {
   "cell_type": "markdown",
   "metadata": {},
   "source": [
    "Performing cross-validation on the model."
   ]
  },
  {
   "cell_type": "code",
   "execution_count": 162,
   "metadata": {},
   "outputs": [],
   "source": [
    "accuracies_random_forest = cross_val_score(estimator=classifier_random_forest,\n",
    "                                          X=X_train,\n",
    "                                          y=y_train,\n",
    "                                          cv=10)"
   ]
  },
  {
   "cell_type": "code",
   "execution_count": 163,
   "metadata": {},
   "outputs": [
    {
     "data": {
      "text/plain": [
       "array([0.95652174, 0.7826087 , 0.91304348, 0.95652174, 0.73913043,\n",
       "       0.73913043, 0.81818182, 0.71428571, 1.        , 0.9047619 ])"
      ]
     },
     "execution_count": 163,
     "metadata": {},
     "output_type": "execute_result"
    }
   ],
   "source": [
    "accuracies_random_forest"
   ]
  },
  {
   "cell_type": "code",
   "execution_count": 164,
   "metadata": {},
   "outputs": [
    {
     "data": {
      "text/plain": [
       "0.8524185958968568"
      ]
     },
     "execution_count": 164,
     "metadata": {},
     "output_type": "execute_result"
    }
   ],
   "source": [
    "accuracies_random_forest.mean()"
   ]
  },
  {
   "cell_type": "markdown",
   "metadata": {},
   "source": [
    "On average, the accuracy of the trainning set is 85.2%."
   ]
  },
  {
   "cell_type": "code",
   "execution_count": 165,
   "metadata": {},
   "outputs": [],
   "source": [
    "y_pred_Forest = classifier_random_forest.predict(X_test)"
   ]
  },
  {
   "cell_type": "code",
   "execution_count": 166,
   "metadata": {},
   "outputs": [],
   "source": [
    "# Calculating confusion matrix\n",
    "cm_Forest = confusion_matrix(y_test, y_pred_Forest)"
   ]
  },
  {
   "cell_type": "code",
   "execution_count": 167,
   "metadata": {},
   "outputs": [
    {
     "data": {
      "image/png": "[encoded data removed]",
      "text/plain": [
       "<Figure size 360x360 with 2 Axes>"
      ]
     },
     "metadata": {
      "needs_background": "light"
     },
     "output_type": "display_data"
    }
   ],
   "source": [
    "plt.figure(figsize=(5,5))\n",
    "sns.heatmap(cm_Forest,annot=True)\n",
    "plt.title('Confusion matrix')\n",
    "plt.show();"
   ]
  },
  {
   "cell_type": "code",
   "execution_count": 168,
   "metadata": {},
   "outputs": [],
   "source": [
    "accuracy_random_forest = accuracy_score(y_test,y_pred_Forest)"
   ]
  },
  {
   "cell_type": "code",
   "execution_count": 169,
   "metadata": {},
   "outputs": [
    {
     "data": {
      "text/plain": [
       "0.8133333333333334"
      ]
     },
     "execution_count": 169,
     "metadata": {},
     "output_type": "execute_result"
    }
   ],
   "source": [
    "accuracy_random_forest"
   ]
  },
  {
   "cell_type": "markdown",
   "metadata": {},
   "source": [
    "The accuracy on the test set is 81.3%."
   ]
  },
  {
   "cell_type": "markdown",
   "metadata": {},
   "source": [
    "### G. Summary <a name = 'summary'>"
   ]
  },
  {
   "cell_type": "code",
   "execution_count": 170,
   "metadata": {},
   "outputs": [],
   "source": [
    "Accuracy_model = {'Model':['Logistic Regression','SVM','kNN','Naive Bayes','Decision Tree','Random Forest'],\n",
    "                 'Score':[accuracy_Logistic,accuracy_SVM,accuracy_kNN, \n",
    "                          accuracy_naive_bayes, accuracy_decision_tree, accuracy_random_forest]}"
   ]
  },
  {
   "cell_type": "code",
   "execution_count": 171,
   "metadata": {},
   "outputs": [],
   "source": [
    "Accuracy_model = pd.DataFrame(Accuracy_model, columns =['Model', 'Score'])"
   ]
  },
  {
   "cell_type": "code",
   "execution_count": 172,
   "metadata": {},
   "outputs": [
    {
     "data": {
      "text/html": [
       "<div>\n",
       "<style scoped>\n",
       "    .dataframe tbody tr th:only-of-type {\n",
       "        vertical-align: middle;\n",
       "    }\n",
       "\n",
       "    .dataframe tbody tr th {\n",
       "        vertical-align: top;\n",
       "    }\n",
       "\n",
       "    .dataframe thead th {\n",
       "        text-align: right;\n",
       "    }\n",
       "</style>\n",
       "<table border=\"1\" class=\"dataframe\">\n",
       "  <thead>\n",
       "    <tr style=\"text-align: right;\">\n",
       "      <th></th>\n",
       "      <th>Score</th>\n",
       "    </tr>\n",
       "    <tr>\n",
       "      <th>Model</th>\n",
       "      <th></th>\n",
       "    </tr>\n",
       "  </thead>\n",
       "  <tbody>\n",
       "    <tr>\n",
       "      <th>Logistic Regression</th>\n",
       "      <td>0.813333</td>\n",
       "    </tr>\n",
       "    <tr>\n",
       "      <th>SVM</th>\n",
       "      <td>0.813333</td>\n",
       "    </tr>\n",
       "    <tr>\n",
       "      <th>kNN</th>\n",
       "      <td>0.786667</td>\n",
       "    </tr>\n",
       "    <tr>\n",
       "      <th>Naive Bayes</th>\n",
       "      <td>0.813333</td>\n",
       "    </tr>\n",
       "    <tr>\n",
       "      <th>Decision Tree</th>\n",
       "      <td>0.733333</td>\n",
       "    </tr>\n",
       "    <tr>\n",
       "      <th>Random Forest</th>\n",
       "      <td>0.813333</td>\n",
       "    </tr>\n",
       "  </tbody>\n",
       "</table>\n",
       "</div>"
      ],
      "text/plain": [
       "                        Score\n",
       "Model                        \n",
       "Logistic Regression  0.813333\n",
       "SVM                  0.813333\n",
       "kNN                  0.786667\n",
       "Naive Bayes          0.813333\n",
       "Decision Tree        0.733333\n",
       "Random Forest        0.813333"
      ]
     },
     "execution_count": 172,
     "metadata": {},
     "output_type": "execute_result"
    }
   ],
   "source": [
    "Accuracy_model.set_index('Model')"
   ]
  },
  {
   "cell_type": "markdown",
   "metadata": {},
   "source": [
    "From the table, Logistic Regression, SVM, Naive Bayes,and Random forest classifier has the most accurcy score, while the Decision Tree has the least accuracy score."
   ]
  },
  {
   "cell_type": "markdown",
   "metadata": {},
   "source": [
    "### H. Ensemble Model <a name = 'ensemble'>"
   ]
  },
  {
   "cell_type": "markdown",
   "metadata": {},
   "source": [
    "In this section, a new classification will be constructed from top four classifications."
   ]
  },
  {
   "cell_type": "code",
   "execution_count": 174,
   "metadata": {},
   "outputs": [],
   "source": [
    "from sklearn.ensemble import VotingClassifier"
   ]
  },
  {
   "cell_type": "code",
   "execution_count": 212,
   "metadata": {},
   "outputs": [],
   "source": [
    "classifier_voting = VotingClassifier(estimators=[('Logistic Regression',classifier_Logistic),\n",
    "                                                 ('SVM',classifier_SVM),             \n",
    "                                                 ('Naive Bayes', classifier_naive_bayes),\n",
    "                                                 ('Random Forest', classifier_random_forest)],\n",
    "                                     voting='hard')"
   ]
  },
  {
   "cell_type": "code",
   "execution_count": 213,
   "metadata": {},
   "outputs": [
    {
     "data": {
      "text/plain": [
       "VotingClassifier(estimators=[('Logistic Regression',\n",
       "                              LogisticRegression(C=1.0, class_weight=None,\n",
       "                                                 dual=False, fit_intercept=True,\n",
       "                                                 intercept_scaling=1,\n",
       "                                                 l1_ratio=None, max_iter=100,\n",
       "                                                 multi_class='warn',\n",
       "                                                 n_jobs=None, penalty='l2',\n",
       "                                                 random_state=0, solver='warn',\n",
       "                                                 tol=0.0001, verbose=0,\n",
       "                                                 warm_start=False)),\n",
       "                             ('SVM',\n",
       "                              SVC(C=1.0, cache_size=200, class_weight=None,\n",
       "                                  coef0=0.0, decisi...\n",
       "                                                     class_weight=None,\n",
       "                                                     criterion='gini',\n",
       "                                                     max_depth=None,\n",
       "                                                     max_features='auto',\n",
       "                                                     max_leaf_nodes=None,\n",
       "                                                     min_impurity_decrease=0.0,\n",
       "                                                     min_impurity_split=None,\n",
       "                                                     min_samples_leaf=1,\n",
       "                                                     min_samples_split=2,\n",
       "                                                     min_weight_fraction_leaf=0.0,\n",
       "                                                     n_estimators=130,\n",
       "                                                     n_jobs=None,\n",
       "                                                     oob_score=False,\n",
       "                                                     random_state=0, verbose=0,\n",
       "                                                     warm_start=False))],\n",
       "                 flatten_transform=True, n_jobs=None, voting='hard',\n",
       "                 weights=None)"
      ]
     },
     "execution_count": 213,
     "metadata": {},
     "output_type": "execute_result"
    }
   ],
   "source": [
    "classifier_voting.fit(X_train,y_train)"
   ]
  },
  {
   "cell_type": "code",
   "execution_count": 222,
   "metadata": {},
   "outputs": [],
   "source": [
    "accuracies_voting = cross_val_score(estimator=classifier_voting,\n",
    "                                   X=X_train,\n",
    "                                   y=y_train,\n",
    "                                   cv=10)"
   ]
  },
  {
   "cell_type": "code",
   "execution_count": 223,
   "metadata": {},
   "outputs": [
    {
     "data": {
      "text/plain": [
       "array([0.95652174, 0.91304348, 0.95652174, 0.95652174, 0.82608696,\n",
       "       0.7826087 , 0.81818182, 0.76190476, 0.95238095, 1.        ])"
      ]
     },
     "execution_count": 223,
     "metadata": {},
     "output_type": "execute_result"
    }
   ],
   "source": [
    "accuracies_voting"
   ]
  },
  {
   "cell_type": "code",
   "execution_count": 216,
   "metadata": {},
   "outputs": [
    {
     "data": {
      "text/plain": [
       "0.892377188029362"
      ]
     },
     "execution_count": 216,
     "metadata": {},
     "output_type": "execute_result"
    }
   ],
   "source": [
    "accuracies_voting.mean()"
   ]
  },
  {
   "cell_type": "markdown",
   "metadata": {},
   "source": [
    "On average, the accuracy of voting classifier is 89.2%."
   ]
  },
  {
   "cell_type": "code",
   "execution_count": 225,
   "metadata": {},
   "outputs": [],
   "source": [
    "y_pred_voting = classifier_voting.predict(X_test)"
   ]
  },
  {
   "cell_type": "code",
   "execution_count": 226,
   "metadata": {},
   "outputs": [],
   "source": [
    "# Calculating confusion matrix\n",
    "cm_voting = confusion_matrix(y_test, y_pred_voting)"
   ]
  },
  {
   "cell_type": "code",
   "execution_count": 227,
   "metadata": {},
   "outputs": [
    {
     "data": {
      "image/png": "[encoded data removed]",
      "text/plain": [
       "<Figure size 360x360 with 2 Axes>"
      ]
     },
     "metadata": {
      "needs_background": "light"
     },
     "output_type": "display_data"
    }
   ],
   "source": [
    "plt.figure(figsize=(5,5))\n",
    "sns.heatmap(cm_voting,annot=True)\n",
    "plt.title('Confusion matrix')\n",
    "plt.show();"
   ]
  },
  {
   "cell_type": "code",
   "execution_count": 228,
   "metadata": {},
   "outputs": [],
   "source": [
    "accuracy_voting = accuracy_score(y_test,y_pred_voting)"
   ]
  },
  {
   "cell_type": "code",
   "execution_count": 229,
   "metadata": {},
   "outputs": [
    {
     "data": {
      "text/plain": [
       "0.8266666666666667"
      ]
     },
     "execution_count": 229,
     "metadata": {},
     "output_type": "execute_result"
    }
   ],
   "source": [
    "accuracy_voting"
   ]
  },
  {
   "cell_type": "code",
   "execution_count": 231,
   "metadata": {},
   "outputs": [
    {
     "data": {
      "text/html": [
       "<div>\n",
       "<style scoped>\n",
       "    .dataframe tbody tr th:only-of-type {\n",
       "        vertical-align: middle;\n",
       "    }\n",
       "\n",
       "    .dataframe tbody tr th {\n",
       "        vertical-align: top;\n",
       "    }\n",
       "\n",
       "    .dataframe thead th {\n",
       "        text-align: right;\n",
       "    }\n",
       "</style>\n",
       "<table border=\"1\" class=\"dataframe\">\n",
       "  <thead>\n",
       "    <tr style=\"text-align: right;\">\n",
       "      <th></th>\n",
       "      <th>Score</th>\n",
       "    </tr>\n",
       "    <tr>\n",
       "      <th>Model</th>\n",
       "      <th></th>\n",
       "    </tr>\n",
       "  </thead>\n",
       "  <tbody>\n",
       "    <tr>\n",
       "      <th>Logistic Regression</th>\n",
       "      <td>0.813333</td>\n",
       "    </tr>\n",
       "    <tr>\n",
       "      <th>SVM</th>\n",
       "      <td>0.813333</td>\n",
       "    </tr>\n",
       "    <tr>\n",
       "      <th>kNN</th>\n",
       "      <td>0.786667</td>\n",
       "    </tr>\n",
       "    <tr>\n",
       "      <th>Naive Bayes</th>\n",
       "      <td>0.813333</td>\n",
       "    </tr>\n",
       "    <tr>\n",
       "      <th>Decision Tree</th>\n",
       "      <td>0.733333</td>\n",
       "    </tr>\n",
       "    <tr>\n",
       "      <th>Random Forest</th>\n",
       "      <td>0.813333</td>\n",
       "    </tr>\n",
       "    <tr>\n",
       "      <th>Voting</th>\n",
       "      <td>0.826667</td>\n",
       "    </tr>\n",
       "  </tbody>\n",
       "</table>\n",
       "</div>"
      ],
      "text/plain": [
       "                        Score\n",
       "Model                        \n",
       "Logistic Regression  0.813333\n",
       "SVM                  0.813333\n",
       "kNN                  0.786667\n",
       "Naive Bayes          0.813333\n",
       "Decision Tree        0.733333\n",
       "Random Forest        0.813333\n",
       "Voting               0.826667"
      ]
     },
     "execution_count": 231,
     "metadata": {},
     "output_type": "execute_result"
    }
   ],
   "source": [
    "Accuracy_model = {'Model':['Logistic Regression','SVM','kNN','Naive Bayes','Decision Tree','Random Forest','Voting'],\n",
    "                 'Score':[accuracy_Logistic,accuracy_SVM,accuracy_kNN, \n",
    "                          accuracy_naive_bayes, accuracy_decision_tree, accuracy_random_forest, accuracy_voting]}\n",
    "Accuracy_model = pd.DataFrame(Accuracy_model, columns =['Model', 'Score'])\n",
    "Accuracy_model.set_index('Model')"
   ]
  },
  {
   "cell_type": "markdown",
   "metadata": {},
   "source": [
    "Th voting classifier gives a better accuracy on the test set than other models."
   ]
  },
  {
   "cell_type": "markdown",
   "metadata": {},
   "source": [
    "## 4. Artificial Neural Network <a name = 'network'>"
   ]
  },
  {
   "cell_type": "markdown",
   "metadata": {},
   "source": [
    "In this section, an aritificial neural netwrok will be create and train to predict the heart diesease rate on the data."
   ]
  },
  {
   "cell_type": "code",
   "execution_count": 235,
   "metadata": {},
   "outputs": [
    {
     "name": "stderr",
     "output_type": "stream",
     "text": [
      "Using TensorFlow backend.\n"
     ]
    }
   ],
   "source": [
    "# Importing the Keras libraries and packages\n",
    "import keras\n",
    "from keras.models import Sequential\n",
    "from keras.layers import Dense"
   ]
  },
  {
   "cell_type": "code",
   "execution_count": 236,
   "metadata": {},
   "outputs": [],
   "source": [
    "number_input = len(X.columns)"
   ]
  },
  {
   "cell_type": "code",
   "execution_count": 237,
   "metadata": {},
   "outputs": [
    {
     "data": {
      "text/plain": [
       "19"
      ]
     },
     "execution_count": 237,
     "metadata": {},
     "output_type": "execute_result"
    }
   ],
   "source": [
    "number_input"
   ]
  },
  {
   "cell_type": "code",
   "execution_count": 238,
   "metadata": {},
   "outputs": [],
   "source": [
    "number_output = 1"
   ]
  },
  {
   "cell_type": "markdown",
   "metadata": {},
   "source": [
    "The number of output will be one, which is True or False."
   ]
  },
  {
   "cell_type": "code",
   "execution_count": 290,
   "metadata": {},
   "outputs": [],
   "source": [
    "#Initialize the ANN\n",
    "classifier_ANN = Sequential()"
   ]
  },
  {
   "cell_type": "markdown",
   "metadata": {},
   "source": [
    "Creating the first hidden layer with the number of nodes equal to (number_input+number_output)/2. In this case, it equal ten."
   ]
  },
  {
   "cell_type": "code",
   "execution_count": 291,
   "metadata": {},
   "outputs": [],
   "source": [
    "number_hidden1 = int((number_input+number_output)/2)"
   ]
  },
  {
   "cell_type": "code",
   "execution_count": 292,
   "metadata": {},
   "outputs": [
    {
     "data": {
      "text/plain": [
       "10"
      ]
     },
     "execution_count": 292,
     "metadata": {},
     "output_type": "execute_result"
    }
   ],
   "source": [
    "number_hidden1"
   ]
  },
  {
   "cell_type": "code",
   "execution_count": 293,
   "metadata": {},
   "outputs": [],
   "source": [
    "classifier_ANN.add(Dense(output_dim = number_hidden1,\n",
    "                        init = 'uniform',\n",
    "                        activation='relu',\n",
    "                        input_dim = number_input))"
   ]
  },
  {
   "cell_type": "markdown",
   "metadata": {},
   "source": [
    "Creating the output layer."
   ]
  },
  {
   "cell_type": "code",
   "execution_count": 294,
   "metadata": {},
   "outputs": [],
   "source": [
    "classifier_ANN.add(Dense(output_dim = number_output,\n",
    "                        init = 'uniform',\n",
    "                        activation='sigmoid'))"
   ]
  },
  {
   "cell_type": "code",
   "execution_count": 295,
   "metadata": {},
   "outputs": [],
   "source": [
    "classifier_ANN.compile(optimizer='adam', loss = 'binary_crossentropy', metrics = ['accuracy'])"
   ]
  },
  {
   "cell_type": "markdown",
   "metadata": {},
   "source": [
    "Training the classifier"
   ]
  },
  {
   "cell_type": "code",
   "execution_count": 296,
   "metadata": {},
   "outputs": [
    {
     "name": "stdout",
     "output_type": "stream",
     "text": [
      "Epoch 1/50\n",
      "223/223 [==============================] - 1s 4ms/step - loss: 0.6533 - acc: 0.6457\n",
      "Epoch 2/50\n",
      "223/223 [==============================] - 0s 2ms/step - loss: 0.4822 - acc: 0.8655\n",
      "Epoch 3/50\n",
      "223/223 [==============================] - 0s 2ms/step - loss: 0.3731 - acc: 0.8700\n",
      "Epoch 4/50\n",
      "223/223 [==============================] - 0s 2ms/step - loss: 0.3258 - acc: 0.8789\n",
      "Epoch 5/50\n",
      "223/223 [==============================] - 0s 2ms/step - loss: 0.3033 - acc: 0.8834\n",
      "Epoch 6/50\n",
      "223/223 [==============================] - 0s 2ms/step - loss: 0.2903 - acc: 0.8969\n",
      "Epoch 7/50\n",
      "223/223 [==============================] - 0s 2ms/step - loss: 0.2814 - acc: 0.9013\n",
      "Epoch 8/50\n",
      "223/223 [==============================] - 0s 2ms/step - loss: 0.2747 - acc: 0.9013\n",
      "Epoch 9/50\n",
      "223/223 [==============================] - 0s 2ms/step - loss: 0.2694 - acc: 0.9013\n",
      "Epoch 10/50\n",
      "223/223 [==============================] - 0s 2ms/step - loss: 0.2646 - acc: 0.9013\n",
      "Epoch 11/50\n",
      "223/223 [==============================] - 0s 2ms/step - loss: 0.2606 - acc: 0.9103\n",
      "Epoch 12/50\n",
      "223/223 [==============================] - 0s 2ms/step - loss: 0.2566 - acc: 0.9103\n",
      "Epoch 13/50\n",
      "223/223 [==============================] - 0s 2ms/step - loss: 0.2535 - acc: 0.9103\n",
      "Epoch 14/50\n",
      "223/223 [==============================] - 0s 2ms/step - loss: 0.2507 - acc: 0.9103\n",
      "Epoch 15/50\n",
      "223/223 [==============================] - 0s 2ms/step - loss: 0.2478 - acc: 0.9103\n",
      "Epoch 16/50\n",
      "223/223 [==============================] - 0s 2ms/step - loss: 0.2442 - acc: 0.9148\n",
      "Epoch 17/50\n",
      "223/223 [==============================] - 0s 2ms/step - loss: 0.2420 - acc: 0.9148\n",
      "Epoch 18/50\n",
      "223/223 [==============================] - 0s 2ms/step - loss: 0.2387 - acc: 0.9193\n",
      "Epoch 19/50\n",
      "223/223 [==============================] - 0s 2ms/step - loss: 0.2362 - acc: 0.9238\n",
      "Epoch 20/50\n",
      "223/223 [==============================] - 0s 2ms/step - loss: 0.2351 - acc: 0.9193\n",
      "Epoch 21/50\n",
      "223/223 [==============================] - 0s 2ms/step - loss: 0.2323 - acc: 0.9193\n",
      "Epoch 22/50\n",
      "223/223 [==============================] - 0s 2ms/step - loss: 0.2300 - acc: 0.9238\n",
      "Epoch 23/50\n",
      "223/223 [==============================] - 0s 2ms/step - loss: 0.2275 - acc: 0.9148\n",
      "Epoch 24/50\n",
      "223/223 [==============================] - 0s 2ms/step - loss: 0.2256 - acc: 0.9283\n",
      "Epoch 25/50\n",
      "223/223 [==============================] - 0s 2ms/step - loss: 0.2236 - acc: 0.9193\n",
      "Epoch 26/50\n",
      "223/223 [==============================] - 0s 2ms/step - loss: 0.2209 - acc: 0.9283\n",
      "Epoch 27/50\n",
      "223/223 [==============================] - 0s 2ms/step - loss: 0.2189 - acc: 0.9148\n",
      "Epoch 28/50\n",
      "223/223 [==============================] - 0s 2ms/step - loss: 0.2169 - acc: 0.9238\n",
      "Epoch 29/50\n",
      "223/223 [==============================] - 0s 2ms/step - loss: 0.2150 - acc: 0.9283\n",
      "Epoch 30/50\n",
      "223/223 [==============================] - 0s 2ms/step - loss: 0.2132 - acc: 0.9238\n",
      "Epoch 31/50\n",
      "223/223 [==============================] - 0s 2ms/step - loss: 0.2106 - acc: 0.9238\n",
      "Epoch 32/50\n",
      "223/223 [==============================] - 0s 2ms/step - loss: 0.2091 - acc: 0.9283\n",
      "Epoch 33/50\n",
      "223/223 [==============================] - 0s 2ms/step - loss: 0.2076 - acc: 0.9283\n",
      "Epoch 34/50\n",
      "223/223 [==============================] - 0s 2ms/step - loss: 0.2052 - acc: 0.9148\n",
      "Epoch 35/50\n",
      "223/223 [==============================] - 0s 2ms/step - loss: 0.2031 - acc: 0.9283\n",
      "Epoch 36/50\n",
      "223/223 [==============================] - 0s 2ms/step - loss: 0.2018 - acc: 0.9283\n",
      "Epoch 37/50\n",
      "223/223 [==============================] - 1s 3ms/step - loss: 0.1992 - acc: 0.9327\n",
      "Epoch 38/50\n",
      "223/223 [==============================] - 1s 3ms/step - loss: 0.1980 - acc: 0.9327\n",
      "Epoch 39/50\n",
      "223/223 [==============================] - 1s 2ms/step - loss: 0.1952 - acc: 0.9327\n",
      "Epoch 40/50\n",
      "223/223 [==============================] - 0s 2ms/step - loss: 0.1943 - acc: 0.9283\n",
      "Epoch 41/50\n",
      "223/223 [==============================] - 0s 2ms/step - loss: 0.1918 - acc: 0.9327\n",
      "Epoch 42/50\n",
      "223/223 [==============================] - 0s 2ms/step - loss: 0.1897 - acc: 0.9327\n",
      "Epoch 43/50\n",
      "223/223 [==============================] - 0s 2ms/step - loss: 0.1871 - acc: 0.9372\n",
      "Epoch 44/50\n",
      "223/223 [==============================] - 0s 2ms/step - loss: 0.1858 - acc: 0.9327\n",
      "Epoch 45/50\n",
      "223/223 [==============================] - 0s 2ms/step - loss: 0.1839 - acc: 0.9372\n",
      "Epoch 46/50\n",
      "223/223 [==============================] - 0s 2ms/step - loss: 0.1812 - acc: 0.9327\n",
      "Epoch 47/50\n",
      "223/223 [==============================] - 1s 2ms/step - loss: 0.1787 - acc: 0.9372\n",
      "Epoch 48/50\n",
      "223/223 [==============================] - 1s 3ms/step - loss: 0.1771 - acc: 0.9327\n",
      "Epoch 49/50\n",
      "223/223 [==============================] - 1s 3ms/step - loss: 0.1770 - acc: 0.9417\n",
      "Epoch 50/50\n",
      "223/223 [==============================] - 0s 2ms/step - loss: 0.1738 - acc: 0.9372\n"
     ]
    },
    {
     "data": {
      "text/plain": [
       "<keras.callbacks.History at 0x1a28dc2ef0>"
      ]
     },
     "execution_count": 296,
     "metadata": {},
     "output_type": "execute_result"
    }
   ],
   "source": [
    "classifier_ANN.fit(X_train,y_train, batch_size=1, nb_epoch = 50)"
   ]
  },
  {
   "cell_type": "code",
   "execution_count": 297,
   "metadata": {},
   "outputs": [],
   "source": [
    "classifier_ANN.save('Heart_disease_ANN.h5')"
   ]
  },
  {
   "cell_type": "markdown",
   "metadata": {},
   "source": [
    "Let's look at the result on the test set."
   ]
  },
  {
   "cell_type": "code",
   "execution_count": 298,
   "metadata": {},
   "outputs": [],
   "source": [
    "y_pred_ANN = classifier_ANN.predict(X_test)"
   ]
  },
  {
   "cell_type": "code",
   "execution_count": 299,
   "metadata": {},
   "outputs": [],
   "source": [
    "y_pred_ANN = (y_pred_ANN > 0.5)"
   ]
  },
  {
   "cell_type": "code",
   "execution_count": 300,
   "metadata": {},
   "outputs": [],
   "source": [
    "# Calculating confusion matrix\n",
    "cm_ANN = confusion_matrix(y_test, y_pred_ANN)"
   ]
  },
  {
   "cell_type": "code",
   "execution_count": 301,
   "metadata": {},
   "outputs": [
    {
     "data": {
      "image/png": "[encoded data removed]",
      "text/plain": [
       "<Figure size 360x360 with 2 Axes>"
      ]
     },
     "metadata": {
      "needs_background": "light"
     },
     "output_type": "display_data"
    }
   ],
   "source": [
    "plt.figure(figsize=(5,5))\n",
    "sns.heatmap(cm_ANN,annot=True)\n",
    "plt.title('Confusion matrix')\n",
    "plt.show();"
   ]
  },
  {
   "cell_type": "code",
   "execution_count": 302,
   "metadata": {},
   "outputs": [],
   "source": [
    "accuracy_ANN = accuracy_score(y_test,y_pred_ANN)"
   ]
  },
  {
   "cell_type": "code",
   "execution_count": 303,
   "metadata": {},
   "outputs": [
    {
     "data": {
      "text/plain": [
       "0.8266666666666667"
      ]
     },
     "execution_count": 303,
     "metadata": {},
     "output_type": "execute_result"
    }
   ],
   "source": [
    "accuracy_ANN"
   ]
  },
  {
   "cell_type": "markdown",
   "metadata": {},
   "source": [
    "The accuracy of the Artificial Neural Network on the test set is 82.7%."
   ]
  },
  {
   "cell_type": "code",
   "execution_count": 304,
   "metadata": {},
   "outputs": [
    {
     "data": {
      "text/html": [
       "<div>\n",
       "<style scoped>\n",
       "    .dataframe tbody tr th:only-of-type {\n",
       "        vertical-align: middle;\n",
       "    }\n",
       "\n",
       "    .dataframe tbody tr th {\n",
       "        vertical-align: top;\n",
       "    }\n",
       "\n",
       "    .dataframe thead th {\n",
       "        text-align: right;\n",
       "    }\n",
       "</style>\n",
       "<table border=\"1\" class=\"dataframe\">\n",
       "  <thead>\n",
       "    <tr style=\"text-align: right;\">\n",
       "      <th></th>\n",
       "      <th>Score</th>\n",
       "    </tr>\n",
       "    <tr>\n",
       "      <th>Model</th>\n",
       "      <th></th>\n",
       "    </tr>\n",
       "  </thead>\n",
       "  <tbody>\n",
       "    <tr>\n",
       "      <th>Logistic Regression</th>\n",
       "      <td>0.813333</td>\n",
       "    </tr>\n",
       "    <tr>\n",
       "      <th>SVM</th>\n",
       "      <td>0.813333</td>\n",
       "    </tr>\n",
       "    <tr>\n",
       "      <th>kNN</th>\n",
       "      <td>0.786667</td>\n",
       "    </tr>\n",
       "    <tr>\n",
       "      <th>Naive Bayes</th>\n",
       "      <td>0.813333</td>\n",
       "    </tr>\n",
       "    <tr>\n",
       "      <th>Decision Tree</th>\n",
       "      <td>0.733333</td>\n",
       "    </tr>\n",
       "    <tr>\n",
       "      <th>Random Forest</th>\n",
       "      <td>0.813333</td>\n",
       "    </tr>\n",
       "    <tr>\n",
       "      <th>Voting</th>\n",
       "      <td>0.826667</td>\n",
       "    </tr>\n",
       "    <tr>\n",
       "      <th>ANN</th>\n",
       "      <td>0.826667</td>\n",
       "    </tr>\n",
       "  </tbody>\n",
       "</table>\n",
       "</div>"
      ],
      "text/plain": [
       "                        Score\n",
       "Model                        \n",
       "Logistic Regression  0.813333\n",
       "SVM                  0.813333\n",
       "kNN                  0.786667\n",
       "Naive Bayes          0.813333\n",
       "Decision Tree        0.733333\n",
       "Random Forest        0.813333\n",
       "Voting               0.826667\n",
       "ANN                  0.826667"
      ]
     },
     "execution_count": 304,
     "metadata": {},
     "output_type": "execute_result"
    }
   ],
   "source": [
    "Accuracy_model = {'Model':['Logistic Regression','SVM','kNN','Naive Bayes','Decision Tree','Random Forest','Voting','ANN'],\n",
    "                 'Score':[accuracy_Logistic,accuracy_SVM,accuracy_kNN, \n",
    "                          accuracy_naive_bayes, accuracy_decision_tree, accuracy_random_forest, accuracy_voting, accuracy_ANN]}\n",
    "Accuracy_model = pd.DataFrame(Accuracy_model, columns =['Model', 'Score'])\n",
    "Accuracy_model.set_index('Model')"
   ]
  },
  {
   "cell_type": "code",
   "execution_count": null,
   "metadata": {},
   "outputs": [],
   "source": []
  }
 ],
 "metadata": {
  "kernelspec": {
   "display_name": "Python [conda env:root] *",
   "language": "python",
   "name": "conda-root-py"
  },
  "language_info": {
   "codemirror_mode": {
    "name": "ipython",
    "version": 3
   },
   "file_extension": ".py",
   "mimetype": "text/x-python",
   "name": "python",
   "nbconvert_exporter": "python",
   "pygments_lexer": "ipython3",
   "version": "3.6.8"
  }
 },
 "nbformat": 4,
 "nbformat_minor": 2
}
